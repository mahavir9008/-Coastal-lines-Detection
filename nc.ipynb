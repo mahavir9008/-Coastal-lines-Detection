{
  "nbformat": 4,
  "nbformat_minor": 0,
  "metadata": {
    "colab": {
      "name": "nc.ipynb",
      "provenance": [],
      "collapsed_sections": [],
      "authorship_tag": "ABX9TyMs6DX5giqB2mxyFoXVqvsd",
      "include_colab_link": true
    },
    "kernelspec": {
      "name": "python3",
      "display_name": "Python 3"
    }
  },
  "cells": [
    {
      "cell_type": "markdown",
      "metadata": {
        "id": "view-in-github",
        "colab_type": "text"
      },
      "source": [
        "<a href=\"https://colab.research.google.com/github/mahavir9008/-Coastal-lines-Detection/blob/master/nc.ipynb\" target=\"_parent\"><img src=\"https://colab.research.google.com/assets/colab-badge.svg\" alt=\"Open In Colab\"/></a>"
      ]
    },
    {
      "cell_type": "code",
      "metadata": {
        "id": "o5tthaL-ElxF",
        "colab_type": "code",
        "colab": {
          "base_uri": "https://localhost:8080/",
          "height": 34
        },
        "outputId": "1a0fdf6c-3ba7-4064-d12f-d2b52f01b0a7"
      },
      "source": [
        "from google.colab import drive\n",
        "drive.mount('/content/drive')"
      ],
      "execution_count": null,
      "outputs": [
        {
          "output_type": "stream",
          "text": [
            "Drive already mounted at /content/drive; to attempt to forcibly remount, call drive.mount(\"/content/drive\", force_remount=True).\n"
          ],
          "name": "stdout"
        }
      ]
    },
    {
      "cell_type": "code",
      "metadata": {
        "id": "gxjuJbShFDpg",
        "colab_type": "code",
        "colab": {
          "base_uri": "https://localhost:8080/",
          "height": 280
        },
        "outputId": "b334813e-b662-4e31-da1e-2f707b67da76"
      },
      "source": [
        "\n",
        "\n",
        "!pip install PyDrive\n",
        "\n"
      ],
      "execution_count": null,
      "outputs": [
        {
          "output_type": "stream",
          "text": [
            "Requirement already satisfied: PyDrive in /usr/local/lib/python3.6/dist-packages (1.3.1)\n",
            "Requirement already satisfied: oauth2client>=4.0.0 in /usr/local/lib/python3.6/dist-packages (from PyDrive) (4.1.3)\n",
            "Requirement already satisfied: google-api-python-client>=1.2 in /usr/local/lib/python3.6/dist-packages (from PyDrive) (1.7.12)\n",
            "Requirement already satisfied: PyYAML>=3.0 in /usr/local/lib/python3.6/dist-packages (from PyDrive) (3.13)\n",
            "Requirement already satisfied: rsa>=3.1.4 in /usr/local/lib/python3.6/dist-packages (from oauth2client>=4.0.0->PyDrive) (4.0)\n",
            "Requirement already satisfied: six>=1.6.1 in /usr/local/lib/python3.6/dist-packages (from oauth2client>=4.0.0->PyDrive) (1.12.0)\n",
            "Requirement already satisfied: pyasn1>=0.1.7 in /usr/local/lib/python3.6/dist-packages (from oauth2client>=4.0.0->PyDrive) (0.4.8)\n",
            "Requirement already satisfied: pyasn1-modules>=0.0.5 in /usr/local/lib/python3.6/dist-packages (from oauth2client>=4.0.0->PyDrive) (0.2.8)\n",
            "Requirement already satisfied: httplib2>=0.9.1 in /usr/local/lib/python3.6/dist-packages (from oauth2client>=4.0.0->PyDrive) (0.17.4)\n",
            "Requirement already satisfied: google-auth-httplib2>=0.0.3 in /usr/local/lib/python3.6/dist-packages (from google-api-python-client>=1.2->PyDrive) (0.0.3)\n",
            "Requirement already satisfied: google-auth>=1.4.1 in /usr/local/lib/python3.6/dist-packages (from google-api-python-client>=1.2->PyDrive) (1.7.2)\n",
            "Requirement already satisfied: uritemplate<4dev,>=3.0.0 in /usr/local/lib/python3.6/dist-packages (from google-api-python-client>=1.2->PyDrive) (3.0.1)\n",
            "Requirement already satisfied: setuptools>=40.3.0 in /usr/local/lib/python3.6/dist-packages (from google-auth>=1.4.1->google-api-python-client>=1.2->PyDrive) (47.1.1)\n",
            "Requirement already satisfied: cachetools<3.2,>=2.0.0 in /usr/local/lib/python3.6/dist-packages (from google-auth>=1.4.1->google-api-python-client>=1.2->PyDrive) (3.1.1)\n"
          ],
          "name": "stdout"
        }
      ]
    },
    {
      "cell_type": "code",
      "metadata": {
        "id": "TjkI8612FIsK",
        "colab_type": "code",
        "colab": {}
      },
      "source": [
        "from pydrive.auth import GoogleAuth\n",
        "from pydrive.drive import GoogleDrive\n",
        "from google.colab import auth\n",
        "from oauth2client.client import GoogleCredentials"
      ],
      "execution_count": null,
      "outputs": []
    },
    {
      "cell_type": "code",
      "metadata": {
        "id": "e2x5gJJDFMzP",
        "colab_type": "code",
        "colab": {}
      },
      "source": [
        "auth.authenticate_user()\n",
        "gauth = GoogleAuth()\n",
        "gauth.credentials = GoogleCredentials.get_application_default()\n",
        "drive = GoogleDrive(gauth)"
      ],
      "execution_count": null,
      "outputs": []
    },
    {
      "cell_type": "code",
      "metadata": {
        "id": "QfeoncV_FUu7",
        "colab_type": "code",
        "colab": {}
      },
      "source": [
        "downloaded = drive.CreateFile({'id':\"1m_VrnZJBOxSsPJsjaXeNlOWKUcvwrJ2m\"})   # replace the id with id of file you want to access\n",
        "downloaded.GetContentFile('imageToDriveExampleCSV.tif')"
      ],
      "execution_count": null,
      "outputs": []
    },
    {
      "cell_type": "code",
      "metadata": {
        "id": "BXZHuyuu4Ict",
        "colab_type": "code",
        "colab": {
          "base_uri": "https://localhost:8080/",
          "height": 193
        },
        "outputId": "b716ab19-3b7b-4a1d-f7ca-bf5bbcd5a85a"
      },
      "source": [
        "!apt install unzip\n",
        "!unzip S1B_IW_GRDH_1SDV_20200603T183017_20200603T183042_021873_02983D_F938.zip -d ."
      ],
      "execution_count": null,
      "outputs": [
        {
          "output_type": "stream",
          "text": [
            "Reading package lists... Done\n",
            "Building dependency tree       \n",
            "Reading state information... Done\n",
            "unzip is already the newest version (6.0-21ubuntu1).\n",
            "The following package was automatically installed and is no longer required:\n",
            "  libnvidia-common-440\n",
            "Use 'apt autoremove' to remove it.\n",
            "0 upgraded, 0 newly installed, 0 to remove and 43 not upgraded.\n",
            "unzip:  cannot find or open S1B_IW_GRDH_1SDV_20200603T183017_20200603T183042_021873_02983D_F938.zip, S1B_IW_GRDH_1SDV_20200603T183017_20200603T183042_021873_02983D_F938.zip.zip or S1B_IW_GRDH_1SDV_20200603T183017_20200603T183042_021873_02983D_F938.zip.ZIP.\n"
          ],
          "name": "stdout"
        }
      ]
    },
    {
      "cell_type": "code",
      "metadata": {
        "id": "I969h2kz40Ze",
        "colab_type": "code",
        "colab": {
          "base_uri": "https://localhost:8080/",
          "height": 156
        },
        "outputId": "b3433b23-67c0-4802-9056-fdcf21b00044"
      },
      "source": [
        "!apt install rasterio\n",
        "from __future__ import division\n",
        "import math\n",
        "import rasterio # "
      ],
      "execution_count": null,
      "outputs": [
        {
          "output_type": "stream",
          "text": [
            "Reading package lists... Done\n",
            "Building dependency tree       \n",
            "Reading state information... Done\n",
            "rasterio is already the newest version (0.36.0-2build5).\n",
            "The following package was automatically installed and is no longer required:\n",
            "  libnvidia-common-440\n",
            "Use 'apt autoremove' to remove it.\n",
            "0 upgraded, 0 newly installed, 0 to remove and 43 not upgraded.\n"
          ],
          "name": "stdout"
        }
      ]
    },
    {
      "cell_type": "code",
      "metadata": {
        "id": "haHurf_u5txt",
        "colab_type": "code",
        "colab": {}
      },
      "source": [
        "image_file = \"/content/imageToDriveExampleCSV.tif\"\n",
        "satdat = rasterio.open(image_file)\n"
      ],
      "execution_count": null,
      "outputs": []
    },
    {
      "cell_type": "code",
      "metadata": {
        "id": "sU8mWo6DYyrb",
        "colab_type": "code",
        "colab": {}
      },
      "source": [
        ""
      ],
      "execution_count": null,
      "outputs": []
    },
    {
      "cell_type": "code",
      "metadata": {
        "id": "GjL3FIKz6Qx3",
        "colab_type": "code",
        "colab": {
          "base_uri": "https://localhost:8080/",
          "height": 34
        },
        "outputId": "9e87afa0-c03d-43a5-b2ba-cb2fc6d70636"
      },
      "source": [
        "width_in_projected_units = satdat.bounds.right - satdat.bounds.left\n",
        "height_in_projected_units = satdat.bounds.top - satdat.bounds.bottom\n",
        "\n",
        "print(\"Width: {}, Height: {}\".format(width_in_projected_units, height_in_projected_units))"
      ],
      "execution_count": null,
      "outputs": [
        {
          "output_type": "stream",
          "text": [
            "Width: 0.007545848386603993, Height: 0.002694945852361741\n"
          ],
          "name": "stdout"
        }
      ]
    },
    {
      "cell_type": "code",
      "metadata": {
        "id": "af_bhKLR6ViZ",
        "colab_type": "code",
        "colab": {
          "base_uri": "https://localhost:8080/",
          "height": 52
        },
        "outputId": "c1242211-db0f-4a44-f51d-5a6161594fd8"
      },
      "source": [
        "xres = (satdat.bounds.right - satdat.bounds.left) / satdat.width\n",
        "yres = (satdat.bounds.top - satdat.bounds.bottom) / satdat.height\n",
        "\n",
        "print(xres, yres)\n",
        "print(\"Are the pixels square: {}\".format(xres == yres))"
      ],
      "execution_count": null,
      "outputs": [
        {
          "output_type": "stream",
          "text": [
            "0.0002694945852358569 0.0002694945852361741\n",
            "Are the pixels square: False\n"
          ],
          "name": "stdout"
        }
      ]
    },
    {
      "cell_type": "code",
      "metadata": {
        "id": "cOc270bo6eDh",
        "colab_type": "code",
        "colab": {}
      },
      "source": [
        "i = satdat.read()[0] # seems the fifth dim of the image, not sure which band, provides a clear separation of ocean and land"
      ],
      "execution_count": null,
      "outputs": []
    },
    {
      "cell_type": "code",
      "metadata": {
        "id": "pH9yWwZ56mfr",
        "colab_type": "code",
        "colab": {
          "base_uri": "https://localhost:8080/",
          "height": 729
        },
        "outputId": "34899935-12f0-4c93-8a5b-a53a4ab77dc0"
      },
      "source": [
        "i # look at the array numbers\n"
      ],
      "execution_count": null,
      "outputs": [
        {
          "output_type": "execute_result",
          "data": {
            "text/plain": [
              "array([[0.0216 , 0.0216 , 0.0199 , 0.0199 , 0.0199 , 0.022  , 0.022  ,\n",
              "        0.022  , 0.0249 , 0.0249 , 0.0249 , 0.0249 , 0.0276 , 0.0276 ,\n",
              "        0.0276 , 0.0363 , 0.0363 , 0.0363 , 0.0274 , 0.0274 , 0.0274 ,\n",
              "        0.081  , 0.081  , 0.081  , 0.081  , 0.10145, 0.10145, 0.10145],\n",
              "       [0.0258 , 0.0258 , 0.02   , 0.02   , 0.02   , 0.0237 , 0.0237 ,\n",
              "        0.0237 , 0.0301 , 0.0301 , 0.0301 , 0.0301 , 0.0378 , 0.0378 ,\n",
              "        0.0378 , 0.0366 , 0.0366 , 0.0366 , 0.0326 , 0.0326 , 0.0326 ,\n",
              "        0.0959 , 0.0959 , 0.0959 , 0.0959 , 0.1086 , 0.1086 , 0.1086 ],\n",
              "       [0.0258 , 0.0258 , 0.02   , 0.02   , 0.02   , 0.0237 , 0.0237 ,\n",
              "        0.0237 , 0.0301 , 0.0301 , 0.0301 , 0.0301 , 0.0378 , 0.0378 ,\n",
              "        0.0378 , 0.0366 , 0.0366 , 0.0366 , 0.0326 , 0.0326 , 0.0326 ,\n",
              "        0.0959 , 0.0959 , 0.0959 , 0.0959 , 0.1086 , 0.1086 , 0.1086 ],\n",
              "       [0.0415 , 0.0415 , 0.0324 , 0.0324 , 0.0324 , 0.0264 , 0.0264 ,\n",
              "        0.0264 , 0.0264 , 0.032  , 0.032  , 0.032  , 0.0352 , 0.0352 ,\n",
              "        0.0352 , 0.039  , 0.039  , 0.039  , 0.13795, 0.13795, 0.13795,\n",
              "        0.13795, 0.142  , 0.142  , 0.142  , 0.11645, 0.11645, 0.11645],\n",
              "       [0.0415 , 0.0415 , 0.0324 , 0.0324 , 0.0324 , 0.0264 , 0.0264 ,\n",
              "        0.0264 , 0.0264 , 0.032  , 0.032  , 0.032  , 0.0352 , 0.0352 ,\n",
              "        0.0352 , 0.039  , 0.039  , 0.039  , 0.13795, 0.13795, 0.13795,\n",
              "        0.13795, 0.142  , 0.142  , 0.142  , 0.11645, 0.11645, 0.11645],\n",
              "       [0.0455 , 0.0455 , 0.0446 , 0.0446 , 0.0446 , 0.0322 , 0.0322 ,\n",
              "        0.0322 , 0.0322 , 0.0206 , 0.0206 , 0.0206 , 0.0114 , 0.0114 ,\n",
              "        0.0114 , 0.11245, 0.11245, 0.11245, 0.1234 , 0.1234 , 0.1234 ,\n",
              "        0.1234 , 0.12295, 0.12295, 0.12295, 0.1093 , 0.1093 , 0.1093 ],\n",
              "       [0.0455 , 0.0455 , 0.0446 , 0.0446 , 0.0446 , 0.0322 , 0.0322 ,\n",
              "        0.0322 , 0.0322 , 0.0206 , 0.0206 , 0.0206 , 0.0114 , 0.0114 ,\n",
              "        0.0114 , 0.11245, 0.11245, 0.11245, 0.1234 , 0.1234 , 0.1234 ,\n",
              "        0.1234 , 0.12295, 0.12295, 0.12295, 0.1093 , 0.1093 , 0.1093 ],\n",
              "       [0.0401 , 0.0401 , 0.0481 , 0.0481 , 0.0481 , 0.0282 , 0.0282 ,\n",
              "        0.0282 , 0.0282 , 0.008  , 0.008  , 0.008  , 0.0092 , 0.0092 ,\n",
              "        0.0092 , 0.12365, 0.12365, 0.12365, 0.1297 , 0.1297 , 0.1297 ,\n",
              "        0.1297 , 0.1226 , 0.1226 , 0.1226 , 0.1195 , 0.1195 , 0.1195 ],\n",
              "       [0.0401 , 0.0401 , 0.0481 , 0.0481 , 0.0481 , 0.0282 , 0.0282 ,\n",
              "        0.0282 , 0.0282 , 0.008  , 0.008  , 0.008  , 0.0092 , 0.0092 ,\n",
              "        0.0092 , 0.12365, 0.12365, 0.12365, 0.1297 , 0.1297 , 0.1297 ,\n",
              "        0.1297 , 0.1226 , 0.1226 , 0.1226 , 0.1195 , 0.1195 , 0.1195 ],\n",
              "       [0.0402 , 0.0402 , 0.024  , 0.024  , 0.024  , 0.0111 , 0.0111 ,\n",
              "        0.0111 , 0.0111 , 0.0092 , 0.0092 , 0.0092 , 0.1207 , 0.1207 ,\n",
              "        0.1207 , 0.1197 , 0.1197 , 0.1197 , 0.12735, 0.12735, 0.12735,\n",
              "        0.12735, 0.134  , 0.134  , 0.134  , 0.13685, 0.13685, 0.13685]],\n",
              "      dtype=float32)"
            ]
          },
          "metadata": {
            "tags": []
          },
          "execution_count": 146
        }
      ]
    },
    {
      "cell_type": "code",
      "metadata": {
        "id": "AnnPetmyiEoM",
        "colab_type": "code",
        "colab": {
          "base_uri": "https://localhost:8080/",
          "height": 52
        },
        "outputId": "f34225f7-8adb-4280-e705-6c0de85f10d5"
      },
      "source": [
        "print(i.min())\n",
        "print(i.max())\n"
      ],
      "execution_count": null,
      "outputs": [
        {
          "output_type": "stream",
          "text": [
            "0.008\n",
            "0.142\n"
          ],
          "name": "stdout"
        }
      ]
    },
    {
      "cell_type": "code",
      "metadata": {
        "id": "dIeSvg1d6vHx",
        "colab_type": "code",
        "colab": {
          "base_uri": "https://localhost:8080/",
          "height": 167
        },
        "outputId": "91699a0e-93a5-4a99-9db9-1c0429d48dcc"
      },
      "source": [
        "\n",
        "from matplotlib import pyplot as plt\n",
        "# Use imshow plot image.\n",
        "fig = plt.imshow(i)\n",
        "\n",
        "# Display the results.\n",
        "plt.show()\n",
        "\n"
      ],
      "execution_count": null,
      "outputs": [
        {
          "output_type": "display_data",
          "data": {
            "image/png": "[encoded data removed]",
            "text/plain": [
              "<Figure size 432x288 with 1 Axes>"
            ]
          },
          "metadata": {
            "tags": [],
            "needs_background": "light"
          }
        }
      ]
    },
    {
      "cell_type": "code",
      "metadata": {
        "id": "EwQ5etj9T9Ye",
        "colab_type": "code",
        "colab": {
          "base_uri": "https://localhost:8080/",
          "height": 265
        },
        "outputId": "ab0e2ee8-2490-4b7e-d96b-3d876e142232"
      },
      "source": [
        "plt.hist(i);"
      ],
      "execution_count": null,
      "outputs": [
        {
          "output_type": "display_data",
          "data": {
            "image/png": "[encoded data removed]",
            "text/plain": [
              "<Figure size 432x288 with 1 Axes>"
            ]
          },
          "metadata": {
            "tags": [],
            "needs_background": "light"
          }
        }
      ]
    },
    {
      "cell_type": "code",
      "metadata": {
        "id": "44rwAsDwfTxC",
        "colab_type": "code",
        "colab": {}
      },
      "source": [
        "import numpy as np\n",
        "B = np.where(i > 0.06, 1, 0)"
      ],
      "execution_count": null,
      "outputs": []
    },
    {
      "cell_type": "code",
      "metadata": {
        "id": "oQb5TMbWge1I",
        "colab_type": "code",
        "colab": {
          "base_uri": "https://localhost:8080/",
          "height": 487
        },
        "outputId": "c38d656c-76a4-41c5-c8c4-f541ba4fd436"
      },
      "source": [
        "print(B)\n",
        "print(B.min())\n",
        "print(B.max())\n",
        "plt.hist(B,density=True, bins=2)\n",
        "plt.ylabel('Water')\n",
        "plt.xlabel('Soil Erosion');"
      ],
      "execution_count": null,
      "outputs": [
        {
          "output_type": "stream",
          "text": [
            "[[0 0 0 0 0 0 0 0 0 0 0 0 0 0 0 0 0 0 0 0 0 1 1 1 1 1 1 1]\n",
            " [0 0 0 0 0 0 0 0 0 0 0 0 0 0 0 0 0 0 0 0 0 1 1 1 1 1 1 1]\n",
            " [0 0 0 0 0 0 0 0 0 0 0 0 0 0 0 0 0 0 0 0 0 1 1 1 1 1 1 1]\n",
            " [0 0 0 0 0 0 0 0 0 0 0 0 0 0 0 0 0 0 1 1 1 1 1 1 1 1 1 1]\n",
            " [0 0 0 0 0 0 0 0 0 0 0 0 0 0 0 0 0 0 1 1 1 1 1 1 1 1 1 1]\n",
            " [0 0 0 0 0 0 0 0 0 0 0 0 0 0 0 1 1 1 1 1 1 1 1 1 1 1 1 1]\n",
            " [0 0 0 0 0 0 0 0 0 0 0 0 0 0 0 1 1 1 1 1 1 1 1 1 1 1 1 1]\n",
            " [0 0 0 0 0 0 0 0 0 0 0 0 0 0 0 1 1 1 1 1 1 1 1 1 1 1 1 1]\n",
            " [0 0 0 0 0 0 0 0 0 0 0 0 0 0 0 1 1 1 1 1 1 1 1 1 1 1 1 1]\n",
            " [0 0 0 0 0 0 0 0 0 0 0 0 1 1 1 1 1 1 1 1 1 1 1 1 1 1 1 1]]\n",
            "0\n",
            "1\n"
          ],
          "name": "stdout"
        },
        {
          "output_type": "display_data",
          "data": {
            "image/png": "[encoded data removed]",
            "text/plain": [
              "<Figure size 432x288 with 1 Axes>"
            ]
          },
          "metadata": {
            "tags": [],
            "needs_background": "light"
          }
        }
      ]
    },
    {
      "cell_type": "code",
      "metadata": {
        "id": "_WSrNA02Umww",
        "colab_type": "code",
        "colab": {}
      },
      "source": [
        "downloaded = drive.CreateFile({'id':\"1MPkRIcLcBfXwMWJhHJtQL_xNxNu6XOtY\"})   # replace the id with id of file you want to access\n",
        "downloaded.GetContentFile('second_slot.tif')"
      ],
      "execution_count": null,
      "outputs": []
    },
    {
      "cell_type": "code",
      "metadata": {
        "id": "JcYYda5GdyCN",
        "colab_type": "code",
        "colab": {}
      },
      "source": [
        "i = satdat.read()[0]"
      ],
      "execution_count": null,
      "outputs": []
    },
    {
      "cell_type": "code",
      "metadata": {
        "id": "eXfRK_n7VXij",
        "colab_type": "code",
        "colab": {}
      },
      "source": [
        ""
      ],
      "execution_count": null,
      "outputs": []
    },
    {
      "cell_type": "code",
      "metadata": {
        "id": "8HvPBsejd3ij",
        "colab_type": "code",
        "colab": {
          "base_uri": "https://localhost:8080/",
          "height": 729
        },
        "outputId": "c0343c14-9d18-4702-f1de-6eefeba3f27f"
      },
      "source": [
        "i"
      ],
      "execution_count": null,
      "outputs": [
        {
          "output_type": "execute_result",
          "data": {
            "text/plain": [
              "array([[0.0216 , 0.0216 , 0.0199 , 0.0199 , 0.0199 , 0.022  , 0.022  ,\n",
              "        0.022  , 0.0249 , 0.0249 , 0.0249 , 0.0249 , 0.0276 , 0.0276 ,\n",
              "        0.0276 , 0.0363 , 0.0363 , 0.0363 , 0.0274 , 0.0274 , 0.0274 ,\n",
              "        0.081  , 0.081  , 0.081  , 0.081  , 0.10145, 0.10145, 0.10145],\n",
              "       [0.0258 , 0.0258 , 0.02   , 0.02   , 0.02   , 0.0237 , 0.0237 ,\n",
              "        0.0237 , 0.0301 , 0.0301 , 0.0301 , 0.0301 , 0.0378 , 0.0378 ,\n",
              "        0.0378 , 0.0366 , 0.0366 , 0.0366 , 0.0326 , 0.0326 , 0.0326 ,\n",
              "        0.0959 , 0.0959 , 0.0959 , 0.0959 , 0.1086 , 0.1086 , 0.1086 ],\n",
              "       [0.0258 , 0.0258 , 0.02   , 0.02   , 0.02   , 0.0237 , 0.0237 ,\n",
              "        0.0237 , 0.0301 , 0.0301 , 0.0301 , 0.0301 , 0.0378 , 0.0378 ,\n",
              "        0.0378 , 0.0366 , 0.0366 , 0.0366 , 0.0326 , 0.0326 , 0.0326 ,\n",
              "        0.0959 , 0.0959 , 0.0959 , 0.0959 , 0.1086 , 0.1086 , 0.1086 ],\n",
              "       [0.0415 , 0.0415 , 0.0324 , 0.0324 , 0.0324 , 0.0264 , 0.0264 ,\n",
              "        0.0264 , 0.0264 , 0.032  , 0.032  , 0.032  , 0.0352 , 0.0352 ,\n",
              "        0.0352 , 0.039  , 0.039  , 0.039  , 0.13795, 0.13795, 0.13795,\n",
              "        0.13795, 0.142  , 0.142  , 0.142  , 0.11645, 0.11645, 0.11645],\n",
              "       [0.0415 , 0.0415 , 0.0324 , 0.0324 , 0.0324 , 0.0264 , 0.0264 ,\n",
              "        0.0264 , 0.0264 , 0.032  , 0.032  , 0.032  , 0.0352 , 0.0352 ,\n",
              "        0.0352 , 0.039  , 0.039  , 0.039  , 0.13795, 0.13795, 0.13795,\n",
              "        0.13795, 0.142  , 0.142  , 0.142  , 0.11645, 0.11645, 0.11645],\n",
              "       [0.0455 , 0.0455 , 0.0446 , 0.0446 , 0.0446 , 0.0322 , 0.0322 ,\n",
              "        0.0322 , 0.0322 , 0.0206 , 0.0206 , 0.0206 , 0.0114 , 0.0114 ,\n",
              "        0.0114 , 0.11245, 0.11245, 0.11245, 0.1234 , 0.1234 , 0.1234 ,\n",
              "        0.1234 , 0.12295, 0.12295, 0.12295, 0.1093 , 0.1093 , 0.1093 ],\n",
              "       [0.0455 , 0.0455 , 0.0446 , 0.0446 , 0.0446 , 0.0322 , 0.0322 ,\n",
              "        0.0322 , 0.0322 , 0.0206 , 0.0206 , 0.0206 , 0.0114 , 0.0114 ,\n",
              "        0.0114 , 0.11245, 0.11245, 0.11245, 0.1234 , 0.1234 , 0.1234 ,\n",
              "        0.1234 , 0.12295, 0.12295, 0.12295, 0.1093 , 0.1093 , 0.1093 ],\n",
              "       [0.0401 , 0.0401 , 0.0481 , 0.0481 , 0.0481 , 0.0282 , 0.0282 ,\n",
              "        0.0282 , 0.0282 , 0.008  , 0.008  , 0.008  , 0.0092 , 0.0092 ,\n",
              "        0.0092 , 0.12365, 0.12365, 0.12365, 0.1297 , 0.1297 , 0.1297 ,\n",
              "        0.1297 , 0.1226 , 0.1226 , 0.1226 , 0.1195 , 0.1195 , 0.1195 ],\n",
              "       [0.0401 , 0.0401 , 0.0481 , 0.0481 , 0.0481 , 0.0282 , 0.0282 ,\n",
              "        0.0282 , 0.0282 , 0.008  , 0.008  , 0.008  , 0.0092 , 0.0092 ,\n",
              "        0.0092 , 0.12365, 0.12365, 0.12365, 0.1297 , 0.1297 , 0.1297 ,\n",
              "        0.1297 , 0.1226 , 0.1226 , 0.1226 , 0.1195 , 0.1195 , 0.1195 ],\n",
              "       [0.0402 , 0.0402 , 0.024  , 0.024  , 0.024  , 0.0111 , 0.0111 ,\n",
              "        0.0111 , 0.0111 , 0.0092 , 0.0092 , 0.0092 , 0.1207 , 0.1207 ,\n",
              "        0.1207 , 0.1197 , 0.1197 , 0.1197 , 0.12735, 0.12735, 0.12735,\n",
              "        0.12735, 0.134  , 0.134  , 0.134  , 0.13685, 0.13685, 0.13685]],\n",
              "      dtype=float32)"
            ]
          },
          "metadata": {
            "tags": []
          },
          "execution_count": 154
        }
      ]
    },
    {
      "cell_type": "code",
      "metadata": {
        "id": "4SDcRHhxeBBC",
        "colab_type": "code",
        "colab": {
          "base_uri": "https://localhost:8080/",
          "height": 167
        },
        "outputId": "3c899ad9-1102-42dc-eade-629654c227fc"
      },
      "source": [
        "from matplotlib import pyplot as plt\n",
        "# Use imshow plot image.\n",
        "fig = plt.imshow(i)\n",
        "\n",
        "# Display the results.\n",
        "plt.show()"
      ],
      "execution_count": null,
      "outputs": [
        {
          "output_type": "display_data",
          "data": {
            "image/png": "[encoded data removed]",
            "text/plain": [
              "<Figure size 432x288 with 1 Axes>"
            ]
          },
          "metadata": {
            "tags": [],
            "needs_background": "light"
          }
        }
      ]
    },
    {
      "cell_type": "code",
      "metadata": {
        "id": "9U4VWkPk7Rww",
        "colab_type": "code",
        "colab": {
          "base_uri": "https://localhost:8080/",
          "height": 569
        },
        "outputId": "d2421046-26d5-4b89-c899-98e90ce70c07"
      },
      "source": [
        "\n",
        "image_file = \"./S1B_IW_GRDH_1SDV_20200603T183017_20200603T183042_021873_02983D_F938.SAFE/measurement/s1b-iw-grd-vh-20200603t183017-20200603t183042-021873-02983d-002.tiff\"\n",
        "\n",
        "satdat = rasterio.open(image_file)"
      ],
      "execution_count": null,
      "outputs": [
        {
          "output_type": "error",
          "ename": "RasterioIOError",
          "evalue": "ignored",
          "traceback": [
            "\u001b[0;31m---------------------------------------------------------------------------\u001b[0m",
            "\u001b[0;31mCPLE_OpenFailed\u001b[0m                           Traceback (most recent call last)",
            "\u001b[0;32mrasterio/_base.pyx\u001b[0m in \u001b[0;36mrasterio._base.DatasetReader.start\u001b[0;34m()\u001b[0m\n",
            "\u001b[0;32mrasterio/_base.pyx\u001b[0m in \u001b[0;36mrasterio._base.DatasetReader.start\u001b[0;34m()\u001b[0m\n",
            "\u001b[0;32mrasterio/_err.pyx\u001b[0m in \u001b[0;36mrasterio._err.CPLErrors.check\u001b[0;34m()\u001b[0m\n",
            "\u001b[0;31mCPLE_OpenFailed\u001b[0m: ./S1B_IW_GRDH_1SDV_20200603T183017_20200603T183042_021873_02983D_F938.SAFE/measurement/s1b-iw-grd-vh-20200603t183017-20200603t183042-021873-02983d-002.tiff: No such file or directory",
            "\nDuring handling of the above exception, another exception occurred:\n",
            "\u001b[0;31mRasterioIOError\u001b[0m                           Traceback (most recent call last)",
            "\u001b[0;32m<ipython-input-156-ed633214dd5f>\u001b[0m in \u001b[0;36m<module>\u001b[0;34m()\u001b[0m\n\u001b[1;32m      2\u001b[0m \u001b[0mimage_file\u001b[0m \u001b[0;34m=\u001b[0m \u001b[0;34m\"./S1B_IW_GRDH_1SDV_20200603T183017_20200603T183042_021873_02983D_F938.SAFE/measurement/s1b-iw-grd-vh-20200603t183017-20200603t183042-021873-02983d-002.tiff\"\u001b[0m\u001b[0;34m\u001b[0m\u001b[0;34m\u001b[0m\u001b[0m\n\u001b[1;32m      3\u001b[0m \u001b[0;34m\u001b[0m\u001b[0m\n\u001b[0;32m----> 4\u001b[0;31m \u001b[0msatdat\u001b[0m \u001b[0;34m=\u001b[0m \u001b[0mrasterio\u001b[0m\u001b[0;34m.\u001b[0m\u001b[0mopen\u001b[0m\u001b[0;34m(\u001b[0m\u001b[0mimage_file\u001b[0m\u001b[0;34m)\u001b[0m\u001b[0;34m\u001b[0m\u001b[0;34m\u001b[0m\u001b[0m\n\u001b[0m",
            "\u001b[0;32m/usr/lib/python3/dist-packages/rasterio/__init__.py\u001b[0m in \u001b[0;36mopen\u001b[0;34m(path, mode, driver, width, height, count, crs, transform, dtype, nodata, **kwargs)\u001b[0m\n\u001b[1;32m    191\u001b[0m         raise ValueError(\n\u001b[1;32m    192\u001b[0m             \"mode string must be one of 'r', 'r+', or 'w', not %s\" % mode)\n\u001b[0;32m--> 193\u001b[0;31m     \u001b[0ms\u001b[0m\u001b[0;34m.\u001b[0m\u001b[0mstart\u001b[0m\u001b[0;34m(\u001b[0m\u001b[0;34m)\u001b[0m\u001b[0;34m\u001b[0m\u001b[0;34m\u001b[0m\u001b[0m\n\u001b[0m\u001b[1;32m    194\u001b[0m     \u001b[0;32mreturn\u001b[0m \u001b[0ms\u001b[0m\u001b[0;34m\u001b[0m\u001b[0;34m\u001b[0m\u001b[0m\n\u001b[1;32m    195\u001b[0m \u001b[0;34m\u001b[0m\u001b[0m\n",
            "\u001b[0;32mrasterio/_base.pyx\u001b[0m in \u001b[0;36mrasterio._base.DatasetReader.start\u001b[0;34m()\u001b[0m\n",
            "\u001b[0;31mRasterioIOError\u001b[0m: ./S1B_IW_GRDH_1SDV_20200603T183017_20200603T183042_021873_02983D_F938.SAFE/measurement/s1b-iw-grd-vh-20200603t183017-20200603t183042-021873-02983d-002.tiff: No such file or directory"
          ]
        }
      ]
    },
    {
      "cell_type": "code",
      "metadata": {
        "id": "U2osIHIi715v",
        "colab_type": "code",
        "colab": {}
      },
      "source": [
        "i = satdat.read()[0] "
      ],
      "execution_count": null,
      "outputs": []
    },
    {
      "cell_type": "code",
      "metadata": {
        "id": "xgecs5lF7vJC",
        "colab_type": "code",
        "colab": {
          "base_uri": "https://localhost:8080/",
          "height": 167
        },
        "outputId": "5fc6935e-b5f2-466e-a80a-bf747fb2e1ff"
      },
      "source": [
        "from matplotlib import pyplot as plt\n",
        "# Use imshow plot image.\n",
        "fig = plt.imshow(i)\n",
        "\n",
        "# Display the results.\n",
        "plt.show()"
      ],
      "execution_count": null,
      "outputs": [
        {
          "output_type": "display_data",
          "data": {
            "image/png": "[encoded data removed]",
            "text/plain": [
              "<Figure size 432x288 with 1 Axes>"
            ]
          },
          "metadata": {
            "tags": [],
            "needs_background": "light"
          }
        }
      ]
    },
    {
      "cell_type": "code",
      "metadata": {
        "id": "qg61I4St57CB",
        "colab_type": "code",
        "colab": {}
      },
      "source": [
        "downloaded = drive.CreateFile({'id':\"1h37UJRWa4f9YdRVgFVFkhB9JPkd0OiQQ\"})   # replace the id with id of file you want to access\n",
        "downloaded.GetContentFile('2018-01-01-2018-03-31.tif')\n"
      ],
      "execution_count": null,
      "outputs": []
    },
    {
      "cell_type": "code",
      "metadata": {
        "id": "cAmRbE_K631E",
        "colab_type": "code",
        "colab": {}
      },
      "source": [
        "downloaded = drive.CreateFile({'id':\"1SHQ3ARyIH5EN2Z7t59r61LCYeVZ3KuMV\"})   # replace the id with id of file you want to access\n",
        "downloaded.GetContentFile('2018-04-01-2018-06-30.tif')"
      ],
      "execution_count": null,
      "outputs": []
    },
    {
      "cell_type": "code",
      "metadata": {
        "id": "Yro5Kxto7eFK",
        "colab_type": "code",
        "colab": {}
      },
      "source": [
        "downloaded = drive.CreateFile({'id':\"1XZ3rFHrWE8jBgQETYVyJqa1lmovxKpMr\"})   # replace the id with id of file you want to access\n",
        "downloaded.GetContentFile('2017-10-01-2017-12-31.tif')"
      ],
      "execution_count": null,
      "outputs": []
    },
    {
      "cell_type": "code",
      "metadata": {
        "id": "tQ-czJiq9_YQ",
        "colab_type": "code",
        "colab": {}
      },
      "source": [
        "downloaded = drive.CreateFile({'id':\"1tqx5V9ydrhzCMBptd7-E0sC5dnYbOnIw\"})   # replace the id with id of file you want to access\n",
        "downloaded.GetContentFile('2017-07-01-2017-09-30.tif')"
      ],
      "execution_count": null,
      "outputs": []
    },
    {
      "cell_type": "code",
      "metadata": {
        "id": "lKlRwgPkqSsE",
        "colab_type": "code",
        "colab": {}
      },
      "source": [
        "downloaded = drive.CreateFile({'id':\"1Vs72MjnSHpRmdYuidpJdzNGVVPFlneqE\"})   # replace the id with id of file you want to access\n",
        "downloaded.GetContentFile('2018-01-01-2018-03-31_A.tif')"
      ],
      "execution_count": null,
      "outputs": []
    },
    {
      "cell_type": "code",
      "metadata": {
        "id": "zFqgHxgBqyo4",
        "colab_type": "code",
        "colab": {}
      },
      "source": [
        "downloaded = drive.CreateFile({'id':\"16rf81_-3GqIEKbHukdGiDx6LBa3of-t7\"})   # replace the id with id of file you want to access\n",
        "downloaded.GetContentFile('2018-04-01-2018-06-30_A.tif')"
      ],
      "execution_count": null,
      "outputs": []
    },
    {
      "cell_type": "code",
      "metadata": {
        "id": "5xOzkClvrvtq",
        "colab_type": "code",
        "colab": {}
      },
      "source": [
        "downloaded = drive.CreateFile({'id':\"1nL4T8v3bhVUiVzePHl7aZYA8UlPD36he\"})   # replace the id with id of file you want to access\n",
        "downloaded.GetContentFile('2017-07-01-2017-09-30_A.tif')"
      ],
      "execution_count": null,
      "outputs": []
    },
    {
      "cell_type": "code",
      "metadata": {
        "id": "-96yWnvlsS7-",
        "colab_type": "code",
        "colab": {}
      },
      "source": [
        "\n",
        "downloaded = drive.CreateFile({'id':\"1tJi0olMvkuACcWSZcjqyBFp11CT_jac4\"})   # replace the id with id of file you want to access\n",
        "downloaded.GetContentFile('2017-10-01-2017-12-31_A.tif')"
      ],
      "execution_count": null,
      "outputs": []
    },
    {
      "cell_type": "code",
      "metadata": {
        "id": "Ak1YOiQG-Y1R",
        "colab_type": "code",
        "colab": {
          "base_uri": "https://localhost:8080/",
          "height": 156
        },
        "outputId": "e80c31eb-b042-4337-95dd-aae153a4799b"
      },
      "source": [
        "!apt install rasterio\n",
        "from __future__ import division\n",
        "import math\n",
        "import rasterio # "
      ],
      "execution_count": null,
      "outputs": [
        {
          "output_type": "stream",
          "text": [
            "Reading package lists... Done\n",
            "Building dependency tree       \n",
            "Reading state information... Done\n",
            "rasterio is already the newest version (0.36.0-2build5).\n",
            "The following package was automatically installed and is no longer required:\n",
            "  libnvidia-common-440\n",
            "Use 'apt autoremove' to remove it.\n",
            "0 upgraded, 0 newly installed, 0 to remove and 43 not upgraded.\n"
          ],
          "name": "stdout"
        }
      ]
    },
    {
      "cell_type": "code",
      "metadata": {
        "id": "DQ1mxAgs-kx_",
        "colab_type": "code",
        "colab": {}
      },
      "source": [
        "first = rasterio.open(\"/content/2018-01-01-2018-03-31.tif\")\n",
        "second = rasterio.open(\"/content/2018-04-01-2018-06-30.tif\")\n",
        "third = rasterio.open(\"/content/2017-07-01-2017-09-30.tif\")\n",
        "fourth = rasterio.open(\"/content/2017-10-01-2017-12-31.tif\")"
      ],
      "execution_count": null,
      "outputs": []
    },
    {
      "cell_type": "code",
      "metadata": {
        "id": "PTOe3nkx_LfX",
        "colab_type": "code",
        "colab": {}
      },
      "source": [
        "ifirst = first.read()[0] \n",
        "isecond = second.read()[0] \n",
        "ithird = third.read()[0] \n",
        "ifourth = fourth.read()[0] "
      ],
      "execution_count": null,
      "outputs": []
    },
    {
      "cell_type": "code",
      "metadata": {
        "id": "7KnQ8b_ItC2P",
        "colab_type": "code",
        "colab": {}
      },
      "source": [
        "firstA = rasterio.open(\"/content/2018-01-01-2018-03-31_A.tif\")\n",
        "secondA = rasterio.open(\"/content/2018-04-01-2018-06-30_A.tif\")\n",
        "thirdA = rasterio.open(\"/content/2017-07-01-2017-09-30_A.tif\")\n",
        "fourthA = rasterio.open(\"/content/2017-10-01-2017-12-31_A.tif\")"
      ],
      "execution_count": null,
      "outputs": []
    },
    {
      "cell_type": "code",
      "metadata": {
        "id": "nWOi-bsytLzd",
        "colab_type": "code",
        "colab": {}
      },
      "source": [
        "ifirstA = firstA.read()[1] \n",
        "isecondA = secondA.read()[0] \n",
        "ithirdA = thirdA.read()[0] \n",
        "ifourthA = fourthA.read()[0] "
      ],
      "execution_count": null,
      "outputs": []
    },
    {
      "cell_type": "code",
      "metadata": {
        "id": "uTtdx_ojtd91",
        "colab_type": "code",
        "colab": {
          "base_uri": "https://localhost:8080/",
          "height": 478
        },
        "outputId": "350382a5-2a9d-425f-8b7b-f820304b4be6"
      },
      "source": [
        "from matplotlib import pyplot as plt\n",
        "# Use imshow plot image.\n",
        "#print(ifirstA.shape)\n",
        "#print(ifirstA)\n",
        "\n",
        "fig = plt.imshow(ifirstA)\n",
        "plt.title('RGB (B4-B3-B2) Map')\n",
        "\n",
        "\n",
        "\n",
        "# Display the results.\n",
        "plt.show()\n",
        "#plt.hist(ifirstA);\n",
        "plt.xlabel('Pixel values')\n",
        "plt.ylabel('Density')\n",
        "plt.title('Pixel Density Distribution')\n",
        "plt.text(0.20, 6, r'$\\, Threshold1=0.138$')\n",
        "plt.text(0.20, 5, r'$\\, Threshold2=0.160$')\n",
        "plt.hist(ifirstA, 30, align='mid', ec=\"skyblue\")\n",
        "\n",
        "plt.xlim(xmin=0.115, xmax = 0.275)\n",
        "plt.axvline(0.138,color='k', linestyle='--')\n",
        "plt.axvline(0.158,color='k', linestyle='--')\n",
        "\n",
        "\n",
        "#print(ifirstA.max())\n",
        "#print(ifirstA.min())"
      ],
      "execution_count": null,
      "outputs": [
        {
          "output_type": "display_data",
          "data": {
            "image/png": "[encoded data removed]",
            "text/plain": [
              "<Figure size 432x288 with 1 Axes>"
            ]
          },
          "metadata": {
            "tags": [],
            "needs_background": "light"
          }
        },
        {
          "output_type": "execute_result",
          "data": {
            "text/plain": [
              "<matplotlib.lines.Line2D at 0x7f0e37fa7c18>"
            ]
          },
          "metadata": {
            "tags": []
          },
          "execution_count": 268
        },
        {
          "output_type": "display_data",
          "data": {
            "image/png": "[encoded data removed]",
            "text/plain": [
              "<Figure size 432x288 with 1 Axes>"
            ]
          },
          "metadata": {
            "tags": [],
            "needs_background": "light"
          }
        }
      ]
    },
    {
      "cell_type": "code",
      "metadata": {
        "id": "Us8EGC_s9ngO",
        "colab_type": "code",
        "colab": {
          "base_uri": "https://localhost:8080/",
          "height": 183
        },
        "outputId": "43fa97aa-7f4a-41f5-eb74-dceafc29295d"
      },
      "source": [
        "import numpy as np\n",
        "#B = np.where(ifirstA <= 0.138, 1, 0 and ifirstA> 160,0,1)\n",
        "matrix =[[]]\n",
        "matrix=[[1, 1 ,1 ,1 ,1, 1, 1 ,1 ,1 ,1, 1 ,1 ,1 ,1, 1, 1 ,1, 1 ,1 ,1 ,1 ,1 ,1 ,1 ,1 ,1 ,1 ,1],\n",
        " [1, 1, 1, 1, 1, 1, 1, 1, 1, 1 ,1 ,1 ,1 ,1, 1, 1 ,1 ,1 ,1, 1, 1 ,1, 1 ,1 ,1, 1 ,1, 1],\n",
        " [1, 1, 1, 1, 1, 1, 1, 1, 1, 1, 1, 1, 1, 1, 1, 1, 1, 1, 1, 1, 1, 1, 1, 1, 1, 1, 1, 1],\n",
        " [1, 1, 1, 1, 1, 1, 1, 1, 1, 1, 1, 1, 1, 1, 1, 1, 1, 1, 1, 1, 1, 1, 1, 1, 1, 1, 1, 1],\n",
        " [1, 1, 1, 1, 1, 1, 1, 1, 1, 1, 1, 1, 1, 1, 0, 0, 0, 1, 0, 1, 1, 1, 0, 1, 1, 1, 0, 0],\n",
        " [1, 1, 1, 1, 1, 1, 1, 1, 1, 1, 0, 0, 0, 0, 0, 0, 0, 0, 0, 0, 0, 0, 0, 0, 0, 0, 0, 0],\n",
        " [1, 1, 1, 1, 1, 1, 1, 1, 1, 0, 0, 0, 0, 0, 0, 0, 0, 0, 0, 0, 0, 0, 0, 0, 0, 0, 0, 0],\n",
        " [1, 1, 1, 1, 1, 1, 1, 1, 1, 0, 0, 0, 0, 0, 0, 0, 0, 0, 0, 0, 0, 0, 0, 0, 0, 0, 0, 0],\n",
        " [1, 1, 1, 1, 1, 1, 1, 0, 0, 0, 0, 0, 0, 0, 0, 0, 0, 0, 0, 0, 0, 0, 0, 0, 0, 0, 0, 0],\n",
        " [1, 1, 1, 0, 0, 0, 0, 0, 0, 0, 0, 0, 0, 0, 0, 0, 0, 0, 0, 0, 0, 0, 0, 0, 0, 0, 0, 0]]\n",
        "#print(matrix)\n",
        "#print(B.min())\n",
        "#print(B.max())\n",
        "\n",
        "fig = plt.imshow(matrix, cmap=\"BuPu_r\")\n",
        "plt.title('Thresholding Mask')\n",
        "# Display the results.\n",
        "plt.show()"
      ],
      "execution_count": null,
      "outputs": [
        {
          "output_type": "display_data",
          "data": {
            "image/png": "[encoded data removed]",
            "text/plain": [
              "<Figure size 432x288 with 1 Axes>"
            ]
          },
          "metadata": {
            "tags": [],
            "needs_background": "light"
          }
        }
      ]
    },
    {
      "cell_type": "code",
      "metadata": {
        "id": "x84F2OFQt9Qy",
        "colab_type": "code",
        "colab": {
          "base_uri": "https://localhost:8080/",
          "height": 1000
        },
        "outputId": "d9065f46-b349-41a4-bed0-276b04ec9ded"
      },
      "source": [
        "from matplotlib import pyplot as plt\n",
        "# Use imshow plot image.\n",
        "print(isecondA.shape)\n",
        "print(isecondA)\n",
        "fig = plt.imshow(isecondA)\n",
        "\n",
        "# Display the results.\n",
        "plt.show()\n",
        "plt.hist(isecondA);\n",
        "print(isecondA.max())\n",
        "print(isecondA.min())"
      ],
      "execution_count": null,
      "outputs": [
        {
          "output_type": "stream",
          "text": [
            "(10, 28)\n",
            "[[0.1279  0.1279  0.1248  0.1248  0.1248  0.12725 0.12725 0.12725 0.1279\n",
            "  0.1279  0.1279  0.1279  0.1273  0.1273  0.1273  0.1325  0.1325  0.1325\n",
            "  0.1304  0.1304  0.1304  0.124   0.124   0.124   0.124   0.1253  0.1253\n",
            "  0.1253 ]\n",
            " [0.1314  0.1314  0.1282  0.1282  0.1282  0.13    0.13    0.13    0.13\n",
            "  0.13    0.13    0.13    0.131   0.131   0.131   0.1289  0.1289  0.1289\n",
            "  0.1309  0.1309  0.1309  0.1319  0.1319  0.1319  0.1319  0.1313  0.1313\n",
            "  0.1313 ]\n",
            " [0.1314  0.1314  0.1282  0.1282  0.1282  0.13    0.13    0.13    0.13\n",
            "  0.13    0.13    0.13    0.131   0.131   0.131   0.1289  0.1289  0.1289\n",
            "  0.1309  0.1309  0.1309  0.1319  0.1319  0.1319  0.1319  0.1313  0.1313\n",
            "  0.1313 ]\n",
            " [0.13775 0.13775 0.13555 0.13555 0.13555 0.13235 0.13235 0.13235 0.13235\n",
            "  0.129   0.129   0.129   0.1285  0.1285  0.1285  0.1276  0.1276  0.1276\n",
            "  0.13015 0.13015 0.13015 0.13015 0.1322  0.1322  0.1322  0.1232  0.1232\n",
            "  0.1232 ]\n",
            " [0.13775 0.13775 0.13555 0.13555 0.13555 0.13235 0.13235 0.13235 0.13235\n",
            "  0.129   0.129   0.129   0.1285  0.1285  0.1285  0.1276  0.1276  0.1276\n",
            "  0.13015 0.13015 0.13015 0.13015 0.1322  0.1322  0.1322  0.1232  0.1232\n",
            "  0.1232 ]\n",
            " [0.13765 0.13765 0.1418  0.1418  0.1418  0.1344  0.1344  0.1344  0.1344\n",
            "  0.1241  0.1241  0.1241  0.1192  0.1192  0.1192  0.12165 0.12165 0.12165\n",
            "  0.12275 0.12275 0.12275 0.12275 0.1213  0.1213  0.1213  0.1189  0.1189\n",
            "  0.1189 ]\n",
            " [0.13765 0.13765 0.1418  0.1418  0.1418  0.1344  0.1344  0.1344  0.1344\n",
            "  0.1241  0.1241  0.1241  0.1192  0.1192  0.1192  0.12165 0.12165 0.12165\n",
            "  0.12275 0.12275 0.12275 0.12275 0.1213  0.1213  0.1213  0.1189  0.1189\n",
            "  0.1189 ]\n",
            " [0.13535 0.13535 0.13615 0.13615 0.13615 0.1265  0.1265  0.1265  0.1265\n",
            "  0.11885 0.11885 0.11885 0.11835 0.11835 0.11835 0.12005 0.12005 0.12005\n",
            "  0.1195  0.1195  0.1195  0.1195  0.1179  0.1179  0.1179  0.1182  0.1182\n",
            "  0.1182 ]\n",
            " [0.13535 0.13535 0.13615 0.13615 0.13615 0.1265  0.1265  0.1265  0.1265\n",
            "  0.11885 0.11885 0.11885 0.11835 0.11835 0.11835 0.12005 0.12005 0.12005\n",
            "  0.1195  0.1195  0.1195  0.1195  0.1179  0.1179  0.1179  0.1182  0.1182\n",
            "  0.1182 ]\n",
            " [0.1273  0.1273  0.12375 0.12375 0.12375 0.1196  0.1196  0.1196  0.1196\n",
            "  0.1184  0.1184  0.1184  0.1179  0.1179  0.1179  0.1185  0.1185  0.1185\n",
            "  0.11895 0.11895 0.11895 0.11895 0.118   0.118   0.118   0.1184  0.1184\n",
            "  0.1184 ]]\n"
          ],
          "name": "stdout"
        },
        {
          "output_type": "display_data",
          "data": {
            "image/png": "[encoded data removed]",
            "text/plain": [
              "<Figure size 432x288 with 1 Axes>"
            ]
          },
          "metadata": {
            "tags": [],
            "needs_background": "light"
          }
        },
        {
          "output_type": "stream",
          "text": [
            "0.1418\n",
            "0.1179\n"
          ],
          "name": "stdout"
        },
        {
          "output_type": "display_data",
          "data": {
            "image/png": "[encoded data removed]",
            "text/plain": [
              "<Figure size 432x288 with 1 Axes>"
            ]
          },
          "metadata": {
            "tags": [],
            "needs_background": "light"
          }
        }
      ]
    },
    {
      "cell_type": "code",
      "metadata": {
        "id": "XuVKUBVOuTwD",
        "colab_type": "code",
        "colab": {
          "base_uri": "https://localhost:8080/",
          "height": 1000
        },
        "outputId": "6ba3985a-28a8-48d1-8317-ec01cb416a09"
      },
      "source": [
        "from matplotlib import pyplot as plt\n",
        "# Use imshow plot image.\n",
        "print(ithirdA.shape)\n",
        "print(ithirdA)\n",
        "fig = plt.imshow(ithirdA)\n",
        "\n",
        "# Display the results.\n",
        "plt.show()\n",
        "plt.hist(ithirdA);\n",
        "print(ithirdA.max())\n",
        "print(ithirdA.min())"
      ],
      "execution_count": null,
      "outputs": [
        {
          "output_type": "stream",
          "text": [
            "(10, 28)\n",
            "[[0.1306  0.1306  0.131   0.131   0.131   0.1324  0.1324  0.1324  0.1342\n",
            "  0.1342  0.1342  0.1342  0.1357  0.1357  0.1357  0.1403  0.1403  0.1403\n",
            "  0.1353  0.1353  0.1353  0.17375 0.17375 0.17375 0.17375 0.1845  0.1845\n",
            "  0.1845 ]\n",
            " [0.1343  0.1343  0.1314  0.1314  0.1314  0.1336  0.1336  0.1336  0.1371\n",
            "  0.1371  0.1371  0.1371  0.1411  0.1411  0.1411  0.1401  0.1401  0.1401\n",
            "  0.1377  0.1377  0.1377  0.1809  0.1809  0.1809  0.1809  0.18665 0.18665\n",
            "  0.18665]\n",
            " [0.1343  0.1343  0.1314  0.1314  0.1314  0.1336  0.1336  0.1336  0.1371\n",
            "  0.1371  0.1371  0.1371  0.1411  0.1411  0.1411  0.1401  0.1401  0.1401\n",
            "  0.1377  0.1377  0.1377  0.1809  0.1809  0.1809  0.1809  0.18665 0.18665\n",
            "  0.18665]\n",
            " [0.1433  0.1433  0.1383  0.1383  0.1383  0.1349  0.1349  0.1349  0.1349\n",
            "  0.1377  0.1377  0.1377  0.1389  0.1389  0.1389  0.1403  0.1403  0.1403\n",
            "  0.2013  0.2013  0.2013  0.2013  0.20215 0.20215 0.20215 0.18795 0.18795\n",
            "  0.18795]\n",
            " [0.1433  0.1433  0.1383  0.1383  0.1383  0.1349  0.1349  0.1349  0.1349\n",
            "  0.1377  0.1377  0.1377  0.1389  0.1389  0.1389  0.1403  0.1403  0.1403\n",
            "  0.2013  0.2013  0.2013  0.2013  0.20215 0.20215 0.20215 0.18795 0.18795\n",
            "  0.18795]\n",
            " [0.1453  0.1453  0.1446  0.1446  0.1446  0.1373  0.1373  0.1373  0.1373\n",
            "  0.1307  0.1307  0.1307  0.1256  0.1256  0.1256  0.18565 0.18565 0.18565\n",
            "  0.19025 0.19025 0.19025 0.19025 0.18905 0.18905 0.18905 0.18155 0.18155\n",
            "  0.18155]\n",
            " [0.1453  0.1453  0.1446  0.1446  0.1446  0.1373  0.1373  0.1373  0.1373\n",
            "  0.1307  0.1307  0.1307  0.1256  0.1256  0.1256  0.18565 0.18565 0.18565\n",
            "  0.19025 0.19025 0.19025 0.19025 0.18905 0.18905 0.18905 0.18155 0.18155\n",
            "  0.18155]\n",
            " [0.1417  0.1417  0.1452  0.1452  0.1452  0.1341  0.1341  0.1341  0.1341\n",
            "  0.1236  0.1236  0.1236  0.1239  0.1239  0.1239  0.18785 0.18785 0.18785\n",
            "  0.1903  0.1903  0.1903  0.1903  0.1866  0.1866  0.1866  0.1845  0.1845\n",
            "  0.1845 ]\n",
            " [0.1417  0.1417  0.1452  0.1452  0.1452  0.1341  0.1341  0.1341  0.1341\n",
            "  0.1236  0.1236  0.1236  0.1239  0.1239  0.1239  0.18785 0.18785 0.18785\n",
            "  0.1903  0.1903  0.1903  0.1903  0.1866  0.1866  0.1866  0.1845  0.1845\n",
            "  0.1845 ]\n",
            " [0.1405  0.1405  0.1316  0.1316  0.1316  0.1249  0.1249  0.1249  0.1249\n",
            "  0.1237  0.1237  0.1237  0.18495 0.18495 0.18495 0.1842  0.1842  0.1842\n",
            "  0.1876  0.1876  0.1876  0.1876  0.1908  0.1908  0.1908  0.1919  0.1919\n",
            "  0.1919 ]]\n"
          ],
          "name": "stdout"
        },
        {
          "output_type": "display_data",
          "data": {
            "image/png": "[encoded data removed]",
            "text/plain": [
              "<Figure size 432x288 with 1 Axes>"
            ]
          },
          "metadata": {
            "tags": [],
            "needs_background": "light"
          }
        },
        {
          "output_type": "stream",
          "text": [
            "0.20215\n",
            "0.1236\n"
          ],
          "name": "stdout"
        },
        {
          "output_type": "display_data",
          "data": {
            "image/png": "[encoded data removed]",
            "text/plain": [
              "<Figure size 432x288 with 1 Axes>"
            ]
          },
          "metadata": {
            "tags": [],
            "needs_background": "light"
          }
        }
      ]
    },
    {
      "cell_type": "code",
      "metadata": {
        "id": "M1ZC3wQ1u9nE",
        "colab_type": "code",
        "colab": {
          "base_uri": "https://localhost:8080/",
          "height": 1000
        },
        "outputId": "ca3ee651-4a2d-48d8-f6e0-53864d0a31c6"
      },
      "source": [
        "from matplotlib import pyplot as plt\n",
        "# Use imshow plot image.\n",
        "print(ifourthA.shape)\n",
        "print(ifourthA)\n",
        "fig = plt.imshow(ifourthA)\n",
        "\n",
        "# Display the results.\n",
        "plt.show()\n",
        "plt.hist(ifourthA);\n",
        "print(ifourthA.max())\n",
        "print(ifourthA.min())"
      ],
      "execution_count": null,
      "outputs": [
        {
          "output_type": "stream",
          "text": [
            "(10, 28)\n",
            "[[0.1935  0.1935  0.1818  0.1818  0.1818  0.1776  0.1776  0.1776  0.17505\n",
            "  0.17505 0.17505 0.17505 0.1851  0.1851  0.1851  0.1844  0.1844  0.1844\n",
            "  0.183   0.183   0.183   0.1847  0.1847  0.1847  0.1847  0.1847  0.1847\n",
            "  0.1847 ]\n",
            " [0.1952  0.1952  0.1892  0.1892  0.1892  0.1904  0.1904  0.1904  0.1873\n",
            "  0.1873  0.1873  0.1873  0.1877  0.1877  0.1877  0.191   0.191   0.191\n",
            "  0.1855  0.1855  0.1855  0.183   0.183   0.183   0.183   0.1867  0.1867\n",
            "  0.1867 ]\n",
            " [0.1952  0.1952  0.1892  0.1892  0.1892  0.1904  0.1904  0.1904  0.1873\n",
            "  0.1873  0.1873  0.1873  0.1877  0.1877  0.1877  0.191   0.191   0.191\n",
            "  0.1855  0.1855  0.1855  0.183   0.183   0.183   0.183   0.1867  0.1867\n",
            "  0.1867 ]\n",
            " [0.1875  0.1875  0.1864  0.1864  0.1864  0.1907  0.1907  0.1907  0.1907\n",
            "  0.2059  0.2059  0.2059  0.2081  0.2081  0.2081  0.196   0.196   0.196\n",
            "  0.1941  0.1941  0.1941  0.1941  0.1969  0.1969  0.1969  0.1959  0.1959\n",
            "  0.1959 ]\n",
            " [0.1875  0.1875  0.1864  0.1864  0.1864  0.1907  0.1907  0.1907  0.1907\n",
            "  0.2059  0.2059  0.2059  0.2081  0.2081  0.2081  0.196   0.196   0.196\n",
            "  0.1941  0.1941  0.1941  0.1941  0.1969  0.1969  0.1969  0.1959  0.1959\n",
            "  0.1959 ]\n",
            " [0.1851  0.1851  0.1851  0.1851  0.1851  0.2019  0.2019  0.2019  0.2019\n",
            "  0.204   0.204   0.204   0.1972  0.1972  0.1972  0.1889  0.1889  0.1889\n",
            "  0.191   0.191   0.191   0.191   0.1937  0.1937  0.1937  0.1912  0.1912\n",
            "  0.1912 ]\n",
            " [0.1851  0.1851  0.1851  0.1851  0.1851  0.2019  0.2019  0.2019  0.2019\n",
            "  0.204   0.204   0.204   0.1972  0.1972  0.1972  0.1889  0.1889  0.1889\n",
            "  0.191   0.191   0.191   0.191   0.1937  0.1937  0.1937  0.1912  0.1912\n",
            "  0.1912 ]\n",
            " [0.1972  0.1972  0.2201  0.2201  0.2201  0.2039  0.2039  0.2039  0.2039\n",
            "  0.1904  0.1904  0.1904  0.1898  0.1898  0.1898  0.1885  0.1885  0.1885\n",
            "  0.1884  0.1884  0.1884  0.1884  0.1895  0.1895  0.1895  0.1889  0.1889\n",
            "  0.1889 ]\n",
            " [0.1972  0.1972  0.2201  0.2201  0.2201  0.2039  0.2039  0.2039  0.2039\n",
            "  0.1904  0.1904  0.1904  0.1898  0.1898  0.1898  0.1885  0.1885  0.1885\n",
            "  0.1884  0.1884  0.1884  0.1884  0.1895  0.1895  0.1895  0.1889  0.1889\n",
            "  0.1889 ]\n",
            " [0.2107  0.2107  0.202   0.202   0.202   0.1917  0.1917  0.1917  0.1917\n",
            "  0.188   0.188   0.188   0.1897  0.1897  0.1897  0.1881  0.1881  0.1881\n",
            "  0.1887  0.1887  0.1887  0.1887  0.1893  0.1893  0.1893  0.1878  0.1878\n",
            "  0.1878 ]]\n"
          ],
          "name": "stdout"
        },
        {
          "output_type": "display_data",
          "data": {
            "image/png": "[encoded data removed]",
            "text/plain": [
              "<Figure size 432x288 with 1 Axes>"
            ]
          },
          "metadata": {
            "tags": [],
            "needs_background": "light"
          }
        },
        {
          "output_type": "stream",
          "text": [
            "0.2201\n",
            "0.17505\n"
          ],
          "name": "stdout"
        },
        {
          "output_type": "display_data",
          "data": {
            "image/png": "[encoded data removed]",
            "text/plain": [
              "<Figure size 432x288 with 1 Axes>"
            ]
          },
          "metadata": {
            "tags": [],
            "needs_background": "light"
          }
        }
      ]
    },
    {
      "cell_type": "code",
      "metadata": {
        "id": "C0IUcXDcus1P",
        "colab_type": "code",
        "colab": {}
      },
      "source": [
        ""
      ],
      "execution_count": null,
      "outputs": []
    },
    {
      "cell_type": "code",
      "metadata": {
        "id": "jKq7MJG3_cqr",
        "colab_type": "code",
        "colab": {
          "base_uri": "https://localhost:8080/",
          "height": 988
        },
        "outputId": "44b28194-5ed3-4f01-9022-c1ee47d6463e"
      },
      "source": [
        "from matplotlib import pyplot as plt\n",
        "# Use imshow plot image.\n",
        "print(ifirst.shape)\n",
        "print(ifirst)\n",
        "fig = plt.imshow(ifirst)\n",
        "\n",
        "# Display the results.\n",
        "plt.show()\n",
        "plt.hist(ifirst);\n",
        "print(ifirst.max())\n",
        "print(ifirst.min())"
      ],
      "execution_count": null,
      "outputs": [
        {
          "output_type": "stream",
          "text": [
            "(10, 28)\n",
            "[[0.1645 0.1645 0.1639 0.1639 0.1639 0.1646 0.1646 0.1646 0.1651 0.1651\n",
            "  0.1651 0.1651 0.1641 0.1641 0.1641 0.1688 0.1688 0.1688 0.1689 0.1689\n",
            "  0.1689 0.17   0.17   0.17   0.17   0.1681 0.1681 0.1681]\n",
            " [0.1657 0.1657 0.1653 0.1653 0.1653 0.1662 0.1662 0.1662 0.1688 0.1688\n",
            "  0.1688 0.1688 0.1697 0.1697 0.1697 0.1744 0.1744 0.1744 0.1692 0.1692\n",
            "  0.1692 0.1732 0.1732 0.1732 0.1732 0.1748 0.1748 0.1748]\n",
            " [0.1657 0.1657 0.1653 0.1653 0.1653 0.1662 0.1662 0.1662 0.1688 0.1688\n",
            "  0.1688 0.1688 0.1697 0.1697 0.1697 0.1744 0.1744 0.1744 0.1692 0.1692\n",
            "  0.1692 0.1732 0.1732 0.1732 0.1732 0.1748 0.1748 0.1748]\n",
            " [0.1732 0.1732 0.168  0.168  0.168  0.1691 0.1691 0.1691 0.1691 0.1889\n",
            "  0.1889 0.1889 0.1787 0.1787 0.1787 0.1731 0.1731 0.1731 0.1727 0.1727\n",
            "  0.1727 0.1727 0.1948 0.1948 0.1948 0.1799 0.1799 0.1799]\n",
            " [0.1732 0.1732 0.168  0.168  0.168  0.1691 0.1691 0.1691 0.1691 0.1889\n",
            "  0.1889 0.1889 0.1787 0.1787 0.1787 0.1731 0.1731 0.1731 0.1727 0.1727\n",
            "  0.1727 0.1727 0.1948 0.1948 0.1948 0.1799 0.1799 0.1799]\n",
            " [0.1715 0.1715 0.1772 0.1772 0.1772 0.1845 0.1845 0.1845 0.1845 0.179\n",
            "  0.179  0.179  0.1631 0.1631 0.1631 0.1562 0.1562 0.1562 0.1599 0.1599\n",
            "  0.1599 0.1599 0.1605 0.1605 0.1605 0.1575 0.1575 0.1575]\n",
            " [0.1715 0.1715 0.1772 0.1772 0.1772 0.1845 0.1845 0.1845 0.1845 0.179\n",
            "  0.179  0.179  0.1631 0.1631 0.1631 0.1562 0.1562 0.1562 0.1599 0.1599\n",
            "  0.1599 0.1599 0.1605 0.1605 0.1605 0.1575 0.1575 0.1575]\n",
            " [0.1735 0.1735 0.1842 0.1842 0.1842 0.1807 0.1807 0.1807 0.1807 0.1615\n",
            "  0.1615 0.1615 0.154  0.154  0.154  0.1558 0.1558 0.1558 0.1552 0.1552\n",
            "  0.1552 0.1552 0.1562 0.1562 0.1562 0.1566 0.1566 0.1566]\n",
            " [0.1735 0.1735 0.1842 0.1842 0.1842 0.1807 0.1807 0.1807 0.1807 0.1615\n",
            "  0.1615 0.1615 0.154  0.154  0.154  0.1558 0.1558 0.1558 0.1552 0.1552\n",
            "  0.1552 0.1552 0.1562 0.1562 0.1562 0.1566 0.1566 0.1566]\n",
            " [0.1721 0.1721 0.1619 0.1619 0.1619 0.1611 0.1611 0.1611 0.1611 0.1571\n",
            "  0.1571 0.1571 0.1565 0.1565 0.1565 0.156  0.156  0.156  0.156  0.156\n",
            "  0.156  0.156  0.1563 0.1563 0.1563 0.1567 0.1567 0.1567]]\n"
          ],
          "name": "stdout"
        },
        {
          "output_type": "display_data",
          "data": {
            "image/png": "[encoded data removed]",
            "text/plain": [
              "<Figure size 432x288 with 1 Axes>"
            ]
          },
          "metadata": {
            "tags": [],
            "needs_background": "light"
          }
        },
        {
          "output_type": "stream",
          "text": [
            "0.1948\n",
            "0.154\n"
          ],
          "name": "stdout"
        },
        {
          "output_type": "display_data",
          "data": {
            "image/png": "[encoded data removed]",
            "text/plain": [
              "<Figure size 432x288 with 1 Axes>"
            ]
          },
          "metadata": {
            "tags": [],
            "needs_background": "light"
          }
        }
      ]
    },
    {
      "cell_type": "code",
      "metadata": {
        "id": "d8xzzF-wAfPw",
        "colab_type": "code",
        "colab": {
          "base_uri": "https://localhost:8080/",
          "height": 1000
        },
        "outputId": "02a26b09-7ba0-428f-fbb8-adb6e2c11ed3"
      },
      "source": [
        "from matplotlib import pyplot as plt\n",
        "print(isecond)\n",
        "# Use imshow plot image.\n",
        "fig = plt.imshow(isecond)\n",
        "\n",
        "# Display the results.\n",
        "plt.show()\n",
        "plt.hist(isecond);\n",
        "print(isecond.max())\n",
        "print(isecond.min())"
      ],
      "execution_count": null,
      "outputs": [
        {
          "output_type": "stream",
          "text": [
            "[[0.1279  0.1279  0.1248  0.1248  0.1248  0.12725 0.12725 0.12725 0.1279\n",
            "  0.1279  0.1279  0.1279  0.1273  0.1273  0.1273  0.1325  0.1325  0.1325\n",
            "  0.1304  0.1304  0.1304  0.124   0.124   0.124   0.124   0.1253  0.1253\n",
            "  0.1253 ]\n",
            " [0.1314  0.1314  0.1282  0.1282  0.1282  0.13    0.13    0.13    0.13\n",
            "  0.13    0.13    0.13    0.131   0.131   0.131   0.1289  0.1289  0.1289\n",
            "  0.1309  0.1309  0.1309  0.1319  0.1319  0.1319  0.1319  0.1313  0.1313\n",
            "  0.1313 ]\n",
            " [0.1314  0.1314  0.1282  0.1282  0.1282  0.13    0.13    0.13    0.13\n",
            "  0.13    0.13    0.13    0.131   0.131   0.131   0.1289  0.1289  0.1289\n",
            "  0.1309  0.1309  0.1309  0.1319  0.1319  0.1319  0.1319  0.1313  0.1313\n",
            "  0.1313 ]\n",
            " [0.13775 0.13775 0.13555 0.13555 0.13555 0.13235 0.13235 0.13235 0.13235\n",
            "  0.129   0.129   0.129   0.1285  0.1285  0.1285  0.1276  0.1276  0.1276\n",
            "  0.13015 0.13015 0.13015 0.13015 0.1322  0.1322  0.1322  0.1232  0.1232\n",
            "  0.1232 ]\n",
            " [0.13775 0.13775 0.13555 0.13555 0.13555 0.13235 0.13235 0.13235 0.13235\n",
            "  0.129   0.129   0.129   0.1285  0.1285  0.1285  0.1276  0.1276  0.1276\n",
            "  0.13015 0.13015 0.13015 0.13015 0.1322  0.1322  0.1322  0.1232  0.1232\n",
            "  0.1232 ]\n",
            " [0.13765 0.13765 0.1418  0.1418  0.1418  0.1344  0.1344  0.1344  0.1344\n",
            "  0.1241  0.1241  0.1241  0.1192  0.1192  0.1192  0.12165 0.12165 0.12165\n",
            "  0.12275 0.12275 0.12275 0.12275 0.1213  0.1213  0.1213  0.1189  0.1189\n",
            "  0.1189 ]\n",
            " [0.13765 0.13765 0.1418  0.1418  0.1418  0.1344  0.1344  0.1344  0.1344\n",
            "  0.1241  0.1241  0.1241  0.1192  0.1192  0.1192  0.12165 0.12165 0.12165\n",
            "  0.12275 0.12275 0.12275 0.12275 0.1213  0.1213  0.1213  0.1189  0.1189\n",
            "  0.1189 ]\n",
            " [0.13535 0.13535 0.13615 0.13615 0.13615 0.1265  0.1265  0.1265  0.1265\n",
            "  0.11885 0.11885 0.11885 0.11835 0.11835 0.11835 0.12005 0.12005 0.12005\n",
            "  0.1195  0.1195  0.1195  0.1195  0.1179  0.1179  0.1179  0.1182  0.1182\n",
            "  0.1182 ]\n",
            " [0.13535 0.13535 0.13615 0.13615 0.13615 0.1265  0.1265  0.1265  0.1265\n",
            "  0.11885 0.11885 0.11885 0.11835 0.11835 0.11835 0.12005 0.12005 0.12005\n",
            "  0.1195  0.1195  0.1195  0.1195  0.1179  0.1179  0.1179  0.1182  0.1182\n",
            "  0.1182 ]\n",
            " [0.1273  0.1273  0.12375 0.12375 0.12375 0.1196  0.1196  0.1196  0.1196\n",
            "  0.1184  0.1184  0.1184  0.1179  0.1179  0.1179  0.1185  0.1185  0.1185\n",
            "  0.11895 0.11895 0.11895 0.11895 0.118   0.118   0.118   0.1184  0.1184\n",
            "  0.1184 ]]\n"
          ],
          "name": "stdout"
        },
        {
          "output_type": "display_data",
          "data": {
            "image/png": "[encoded data removed]",
            "text/plain": [
              "<Figure size 432x288 with 1 Axes>"
            ]
          },
          "metadata": {
            "tags": [],
            "needs_background": "light"
          }
        },
        {
          "output_type": "stream",
          "text": [
            "0.1418\n",
            "0.1179\n"
          ],
          "name": "stdout"
        },
        {
          "output_type": "display_data",
          "data": {
            "image/png": "[encoded data removed]",
            "text/plain": [
              "<Figure size 432x288 with 1 Axes>"
            ]
          },
          "metadata": {
            "tags": [],
            "needs_background": "light"
          }
        }
      ]
    },
    {
      "cell_type": "code",
      "metadata": {
        "id": "-whhjLeQA1qk",
        "colab_type": "code",
        "colab": {
          "base_uri": "https://localhost:8080/",
          "height": 1000
        },
        "outputId": "297761bf-3d6f-43c6-d59b-9e76497bb60b"
      },
      "source": [
        "from matplotlib import pyplot as plt\n",
        "# Use imshow plot image.\n",
        "print(ithird)\n",
        "fig = plt.imshow(ithird)\n",
        "\n",
        "# Display the results.\n",
        "plt.show()\n",
        "plt.hist(ithird);\n",
        "print(ithird.max())\n",
        "print(ithird.min())"
      ],
      "execution_count": null,
      "outputs": [
        {
          "output_type": "stream",
          "text": [
            "[[0.1306  0.1306  0.131   0.131   0.131   0.1324  0.1324  0.1324  0.1342\n",
            "  0.1342  0.1342  0.1342  0.1357  0.1357  0.1357  0.1403  0.1403  0.1403\n",
            "  0.1353  0.1353  0.1353  0.17375 0.17375 0.17375 0.17375 0.1845  0.1845\n",
            "  0.1845 ]\n",
            " [0.1343  0.1343  0.1314  0.1314  0.1314  0.1336  0.1336  0.1336  0.1371\n",
            "  0.1371  0.1371  0.1371  0.1411  0.1411  0.1411  0.1401  0.1401  0.1401\n",
            "  0.1377  0.1377  0.1377  0.1809  0.1809  0.1809  0.1809  0.18665 0.18665\n",
            "  0.18665]\n",
            " [0.1343  0.1343  0.1314  0.1314  0.1314  0.1336  0.1336  0.1336  0.1371\n",
            "  0.1371  0.1371  0.1371  0.1411  0.1411  0.1411  0.1401  0.1401  0.1401\n",
            "  0.1377  0.1377  0.1377  0.1809  0.1809  0.1809  0.1809  0.18665 0.18665\n",
            "  0.18665]\n",
            " [0.1433  0.1433  0.1383  0.1383  0.1383  0.1349  0.1349  0.1349  0.1349\n",
            "  0.1377  0.1377  0.1377  0.1389  0.1389  0.1389  0.1403  0.1403  0.1403\n",
            "  0.2013  0.2013  0.2013  0.2013  0.20215 0.20215 0.20215 0.18795 0.18795\n",
            "  0.18795]\n",
            " [0.1433  0.1433  0.1383  0.1383  0.1383  0.1349  0.1349  0.1349  0.1349\n",
            "  0.1377  0.1377  0.1377  0.1389  0.1389  0.1389  0.1403  0.1403  0.1403\n",
            "  0.2013  0.2013  0.2013  0.2013  0.20215 0.20215 0.20215 0.18795 0.18795\n",
            "  0.18795]\n",
            " [0.1453  0.1453  0.1446  0.1446  0.1446  0.1373  0.1373  0.1373  0.1373\n",
            "  0.1307  0.1307  0.1307  0.1256  0.1256  0.1256  0.18565 0.18565 0.18565\n",
            "  0.19025 0.19025 0.19025 0.19025 0.18905 0.18905 0.18905 0.18155 0.18155\n",
            "  0.18155]\n",
            " [0.1453  0.1453  0.1446  0.1446  0.1446  0.1373  0.1373  0.1373  0.1373\n",
            "  0.1307  0.1307  0.1307  0.1256  0.1256  0.1256  0.18565 0.18565 0.18565\n",
            "  0.19025 0.19025 0.19025 0.19025 0.18905 0.18905 0.18905 0.18155 0.18155\n",
            "  0.18155]\n",
            " [0.1417  0.1417  0.1452  0.1452  0.1452  0.1341  0.1341  0.1341  0.1341\n",
            "  0.1236  0.1236  0.1236  0.1239  0.1239  0.1239  0.18785 0.18785 0.18785\n",
            "  0.1903  0.1903  0.1903  0.1903  0.1866  0.1866  0.1866  0.1845  0.1845\n",
            "  0.1845 ]\n",
            " [0.1417  0.1417  0.1452  0.1452  0.1452  0.1341  0.1341  0.1341  0.1341\n",
            "  0.1236  0.1236  0.1236  0.1239  0.1239  0.1239  0.18785 0.18785 0.18785\n",
            "  0.1903  0.1903  0.1903  0.1903  0.1866  0.1866  0.1866  0.1845  0.1845\n",
            "  0.1845 ]\n",
            " [0.1405  0.1405  0.1316  0.1316  0.1316  0.1249  0.1249  0.1249  0.1249\n",
            "  0.1237  0.1237  0.1237  0.18495 0.18495 0.18495 0.1842  0.1842  0.1842\n",
            "  0.1876  0.1876  0.1876  0.1876  0.1908  0.1908  0.1908  0.1919  0.1919\n",
            "  0.1919 ]]\n"
          ],
          "name": "stdout"
        },
        {
          "output_type": "display_data",
          "data": {
            "image/png": "[encoded data removed]",
            "text/plain": [
              "<Figure size 432x288 with 1 Axes>"
            ]
          },
          "metadata": {
            "tags": [],
            "needs_background": "light"
          }
        },
        {
          "output_type": "stream",
          "text": [
            "0.20215\n",
            "0.1236\n"
          ],
          "name": "stdout"
        },
        {
          "output_type": "display_data",
          "data": {
            "image/png": "[encoded data removed]",
            "text/plain": [
              "<Figure size 432x288 with 1 Axes>"
            ]
          },
          "metadata": {
            "tags": [],
            "needs_background": "light"
          }
        }
      ]
    },
    {
      "cell_type": "code",
      "metadata": {
        "id": "Hx0fiTCcBSwS",
        "colab_type": "code",
        "colab": {
          "base_uri": "https://localhost:8080/",
          "height": 1000
        },
        "outputId": "e92ef75b-a585-4b48-c4e0-24ea54a9e723"
      },
      "source": [
        "from matplotlib import pyplot as plt\n",
        "print(ifourth)\n",
        "fig = plt.imshow(ifourth)\n",
        "\n",
        "# Display the results.\n",
        "plt.show()\n",
        "y, x, _ = plt.hist(ifourth);\n",
        "print(y.max())\n",
        "print(x.min())\n",
        "print(x.max())\n"
      ],
      "execution_count": null,
      "outputs": [
        {
          "output_type": "stream",
          "text": [
            "[[ 0.05363332  0.05363332 -0.36262584 -0.36262584 -0.36262584 -0.51205206\n",
            "  -0.51205206 -0.51205206 -0.60277486 -0.60277486 -0.60277486 -0.60277486\n",
            "  -0.24521907 -0.24521907 -0.24521907 -0.27012333 -0.27012333 -0.27012333\n",
            "  -0.31993243 -0.31993243 -0.31993243 -0.2594504  -0.2594504  -0.2594504\n",
            "  -0.2594504  -0.2594504  -0.2594504  -0.2594504 ]\n",
            " [ 0.11411535  0.11411535 -0.0993507  -0.0993507  -0.0993507  -0.05665727\n",
            "  -0.05665727 -0.05665727 -0.1669484  -0.1669484  -0.1669484  -0.1669484\n",
            "  -0.15271711 -0.15271711 -0.15271711 -0.03531084 -0.03531084 -0.03531084\n",
            "  -0.23098828 -0.23098828 -0.23098828 -0.31993243 -0.31993243 -0.31993243\n",
            "  -0.31993243 -0.18829487 -0.18829487 -0.18829487]\n",
            " [ 0.11411535  0.11411535 -0.0993507  -0.0993507  -0.0993507  -0.05665727\n",
            "  -0.05665727 -0.05665727 -0.1669484  -0.1669484  -0.1669484  -0.1669484\n",
            "  -0.15271711 -0.15271711 -0.15271711 -0.03531084 -0.03531084 -0.03531084\n",
            "  -0.23098828 -0.23098828 -0.23098828 -0.31993243 -0.31993243 -0.31993243\n",
            "  -0.31993243 -0.18829487 -0.18829487 -0.18829487]\n",
            " [-0.15983278 -0.15983278 -0.19896837 -0.19896837 -0.19896837 -0.04598434\n",
            "  -0.04598434 -0.04598434 -0.04598434  0.49479675  0.49479675  0.49479675\n",
            "   0.57306796  0.57306796  0.57306796  0.14257744  0.14257744  0.14257744\n",
            "   0.07498027  0.07498027  0.07498027  0.07498027  0.17459737  0.17459737\n",
            "   0.17459737  0.13901961  0.13901961  0.13901961]\n",
            " [-0.15983278 -0.15983278 -0.19896837 -0.19896837 -0.19896837 -0.04598434\n",
            "  -0.04598434 -0.04598434 -0.04598434  0.49479675  0.49479675  0.49479675\n",
            "   0.57306796  0.57306796  0.57306796  0.14257744  0.14257744  0.14257744\n",
            "   0.07498027  0.07498027  0.07498027  0.07498027  0.17459737  0.17459737\n",
            "   0.17459737  0.13901961  0.13901961  0.13901961]\n",
            " [-0.24521907 -0.24521907 -0.24521907 -0.24521907 -0.24521907  0.3524862\n",
            "   0.3524862   0.3524862   0.3524862   0.42719907  0.42719907  0.42719907\n",
            "   0.18527088  0.18527088  0.18527088 -0.1100242  -0.1100242  -0.1100242\n",
            "  -0.03531084 -0.03531084 -0.03531084 -0.03531084  0.06074894  0.06074894\n",
            "   0.06074894 -0.02819518 -0.02819518 -0.02819518]\n",
            " [-0.24521907 -0.24521907 -0.24521907 -0.24521907 -0.24521907  0.3524862\n",
            "   0.3524862   0.3524862   0.3524862   0.42719907  0.42719907  0.42719907\n",
            "   0.18527088  0.18527088  0.18527088 -0.1100242  -0.1100242  -0.1100242\n",
            "  -0.03531084 -0.03531084 -0.03531084 -0.03531084  0.06074894  0.06074894\n",
            "   0.06074894 -0.02819518 -0.02819518 -0.02819518]\n",
            " [ 0.18527088  0.18527088  1.          1.          1.          0.42364123\n",
            "   0.42364123  0.42364123  0.42364123 -0.05665727 -0.05665727 -0.05665727\n",
            "  -0.07800427 -0.07800427 -0.07800427 -0.12425496 -0.12425496 -0.12425496\n",
            "  -0.1278128  -0.1278128  -0.1278128  -0.1278128  -0.0886772  -0.0886772\n",
            "  -0.0886772  -0.1100242  -0.1100242  -0.1100242 ]\n",
            " [ 0.18527088  0.18527088  1.          1.          1.          0.42364123\n",
            "   0.42364123  0.42364123  0.42364123 -0.05665727 -0.05665727 -0.05665727\n",
            "  -0.07800427 -0.07800427 -0.07800427 -0.12425496 -0.12425496 -0.12425496\n",
            "  -0.1278128  -0.1278128  -0.1278128  -0.1278128  -0.0886772  -0.0886772\n",
            "  -0.0886772  -0.1100242  -0.1100242  -0.1100242 ]\n",
            " [ 0.6655699   0.6655699   0.35604402  0.35604402  0.35604402 -0.01040658\n",
            "  -0.01040658 -0.01040658 -0.01040658 -0.14204413 -0.14204413 -0.14204413\n",
            "  -0.08156158 -0.08156158 -0.08156158 -0.1384863  -0.1384863  -0.1384863\n",
            "  -0.11713935 -0.11713935 -0.11713935 -0.11713935 -0.09579287 -0.09579287\n",
            "  -0.09579287 -0.14915927 -0.14915927 -0.14915927]]\n"
          ],
          "name": "stdout"
        },
        {
          "output_type": "display_data",
          "data": {
            "image/png": "[encoded data removed]",
            "text/plain": [
              "<Figure size 432x288 with 1 Axes>"
            ]
          },
          "metadata": {
            "tags": [],
            "needs_background": "light"
          }
        },
        {
          "output_type": "stream",
          "text": [
            "5.0\n",
            "-0.60277486\n",
            "1.0\n"
          ],
          "name": "stdout"
        },
        {
          "output_type": "display_data",
          "data": {
            "image/png": "[encoded data removed]",
            "text/plain": [
              "<Figure size 432x288 with 1 Axes>"
            ]
          },
          "metadata": {
            "tags": [],
            "needs_background": "light"
          }
        }
      ]
    },
    {
      "cell_type": "markdown",
      "metadata": {
        "id": "rcbknEW15PdL",
        "colab_type": "text"
      },
      "source": [
        "start it from here"
      ]
    },
    {
      "cell_type": "code",
      "metadata": {
        "id": "kIwh3peL5OXA",
        "colab_type": "code",
        "colab": {}
      },
      "source": [
        "https://drive.google.com/file/d/1h37UJRWa4f9YdRVgFVFkhB9JPkd0OiQQ/view?usp=sharing\n",
        "image_file = \"/content/imageToDriveExampleCSV.tif\"\n",
        "satdat = rasterio.open(image_file)"
      ],
      "execution_count": null,
      "outputs": []
    },
    {
      "cell_type": "code",
      "metadata": {
        "id": "yTF1XxZRHs5k",
        "colab_type": "code",
        "colab": {
          "base_uri": "https://localhost:8080/",
          "height": 721
        },
        "outputId": "c7880009-d9df-48e8-988c-1e7a415ce4b2"
      },
      "source": [
        "!pip install netCDF4\n",
        "from matplotlib import pyplot as plt\n",
        "import pandas as pd\n",
        "import netCDF4\n",
        "import numpy as np\n",
        "fp='med00-cmcc-ssh-an-fc-d_1590166049313.nc'\n",
        "ncfile = netCDF4.Dataset(fp) #\n",
        "#print(ncfile.dimensions)\n",
        "print(ncfile.variables.keys())\n",
        "#print(ncfile.variables['zos'])\n",
        "# Read in the file\n",
        "time = ncfile.variables['time']\n",
        "lon = ncfile.variables['lon']\n",
        "lat = ncfile.variables['lat']\n",
        "ssh = ncfile.variables['zos']\n",
        "\n",
        "IR=ncfile.variables['lon'][0]\n",
        "IR2=ncfile.variables['time'][0]\n",
        "IR3=ncfile.variables['lat'][0]\n",
        "IR4=ncfile.variables['zos']\n",
        "lat = np.asarray(lat[:])\n",
        "lon = np.asarray(lon[:])\n",
        "zos= np.asarray(ssh[:])\n",
        "print(len(lat))\n",
        "print(len(lon))\n",
        "print(len(ssh))\n",
        "plt.imshow(lat)"
      ],
      "execution_count": null,
      "outputs": [
        {
          "output_type": "stream",
          "text": [
            "Requirement already satisfied: netCDF4 in /usr/local/lib/python3.6/dist-packages (1.5.3)\n",
            "Requirement already satisfied: cftime in /usr/local/lib/python3.6/dist-packages (from netCDF4) (1.1.3)\n",
            "Requirement already satisfied: numpy>=1.7 in /usr/local/lib/python3.6/dist-packages (from netCDF4) (1.18.4)\n",
            "odict_keys(['lon', 'time', 'lat', 'zos'])\n",
            "380\n",
            "1287\n",
            "1\n"
          ],
          "name": "stdout"
        },
        {
          "output_type": "error",
          "ename": "TypeError",
          "evalue": "ignored",
          "traceback": [
            "\u001b[0;31m---------------------------------------------------------------------------\u001b[0m",
            "\u001b[0;31mTypeError\u001b[0m                                 Traceback (most recent call last)",
            "\u001b[0;32m<ipython-input-4-d2ffdec48d47>\u001b[0m in \u001b[0;36m<module>\u001b[0;34m()\u001b[0m\n\u001b[1;32m     25\u001b[0m \u001b[0mprint\u001b[0m\u001b[0;34m(\u001b[0m\u001b[0mlen\u001b[0m\u001b[0;34m(\u001b[0m\u001b[0mlon\u001b[0m\u001b[0;34m)\u001b[0m\u001b[0;34m)\u001b[0m\u001b[0;34m\u001b[0m\u001b[0;34m\u001b[0m\u001b[0m\n\u001b[1;32m     26\u001b[0m \u001b[0mprint\u001b[0m\u001b[0;34m(\u001b[0m\u001b[0mlen\u001b[0m\u001b[0;34m(\u001b[0m\u001b[0mssh\u001b[0m\u001b[0;34m)\u001b[0m\u001b[0;34m)\u001b[0m\u001b[0;34m\u001b[0m\u001b[0;34m\u001b[0m\u001b[0m\n\u001b[0;32m---> 27\u001b[0;31m \u001b[0mplt\u001b[0m\u001b[0;34m.\u001b[0m\u001b[0mimshow\u001b[0m\u001b[0;34m(\u001b[0m\u001b[0mlat\u001b[0m\u001b[0;34m)\u001b[0m\u001b[0;34m\u001b[0m\u001b[0;34m\u001b[0m\u001b[0m\n\u001b[0m",
            "\u001b[0;32m/usr/local/lib/python3.6/dist-packages/matplotlib/pyplot.py\u001b[0m in \u001b[0;36mimshow\u001b[0;34m(X, cmap, norm, aspect, interpolation, alpha, vmin, vmax, origin, extent, shape, filternorm, filterrad, imlim, resample, url, data, **kwargs)\u001b[0m\n\u001b[1;32m   2649\u001b[0m         \u001b[0mfilternorm\u001b[0m\u001b[0;34m=\u001b[0m\u001b[0mfilternorm\u001b[0m\u001b[0;34m,\u001b[0m \u001b[0mfilterrad\u001b[0m\u001b[0;34m=\u001b[0m\u001b[0mfilterrad\u001b[0m\u001b[0;34m,\u001b[0m \u001b[0mimlim\u001b[0m\u001b[0;34m=\u001b[0m\u001b[0mimlim\u001b[0m\u001b[0;34m,\u001b[0m\u001b[0;34m\u001b[0m\u001b[0;34m\u001b[0m\u001b[0m\n\u001b[1;32m   2650\u001b[0m         resample=resample, url=url, **({\"data\": data} if data is not\n\u001b[0;32m-> 2651\u001b[0;31m         None else {}), **kwargs)\n\u001b[0m\u001b[1;32m   2652\u001b[0m     \u001b[0msci\u001b[0m\u001b[0;34m(\u001b[0m\u001b[0m__ret\u001b[0m\u001b[0;34m)\u001b[0m\u001b[0;34m\u001b[0m\u001b[0;34m\u001b[0m\u001b[0m\n\u001b[1;32m   2653\u001b[0m     \u001b[0;32mreturn\u001b[0m \u001b[0m__ret\u001b[0m\u001b[0;34m\u001b[0m\u001b[0;34m\u001b[0m\u001b[0m\n",
            "\u001b[0;32m/usr/local/lib/python3.6/dist-packages/matplotlib/__init__.py\u001b[0m in \u001b[0;36minner\u001b[0;34m(ax, data, *args, **kwargs)\u001b[0m\n\u001b[1;32m   1563\u001b[0m     \u001b[0;32mdef\u001b[0m \u001b[0minner\u001b[0m\u001b[0;34m(\u001b[0m\u001b[0max\u001b[0m\u001b[0;34m,\u001b[0m \u001b[0;34m*\u001b[0m\u001b[0margs\u001b[0m\u001b[0;34m,\u001b[0m \u001b[0mdata\u001b[0m\u001b[0;34m=\u001b[0m\u001b[0;32mNone\u001b[0m\u001b[0;34m,\u001b[0m \u001b[0;34m**\u001b[0m\u001b[0mkwargs\u001b[0m\u001b[0;34m)\u001b[0m\u001b[0;34m:\u001b[0m\u001b[0;34m\u001b[0m\u001b[0;34m\u001b[0m\u001b[0m\n\u001b[1;32m   1564\u001b[0m         \u001b[0;32mif\u001b[0m \u001b[0mdata\u001b[0m \u001b[0;32mis\u001b[0m \u001b[0;32mNone\u001b[0m\u001b[0;34m:\u001b[0m\u001b[0;34m\u001b[0m\u001b[0;34m\u001b[0m\u001b[0m\n\u001b[0;32m-> 1565\u001b[0;31m             \u001b[0;32mreturn\u001b[0m \u001b[0mfunc\u001b[0m\u001b[0;34m(\u001b[0m\u001b[0max\u001b[0m\u001b[0;34m,\u001b[0m \u001b[0;34m*\u001b[0m\u001b[0mmap\u001b[0m\u001b[0;34m(\u001b[0m\u001b[0msanitize_sequence\u001b[0m\u001b[0;34m,\u001b[0m \u001b[0margs\u001b[0m\u001b[0;34m)\u001b[0m\u001b[0;34m,\u001b[0m \u001b[0;34m**\u001b[0m\u001b[0mkwargs\u001b[0m\u001b[0;34m)\u001b[0m\u001b[0;34m\u001b[0m\u001b[0;34m\u001b[0m\u001b[0m\n\u001b[0m\u001b[1;32m   1566\u001b[0m \u001b[0;34m\u001b[0m\u001b[0m\n\u001b[1;32m   1567\u001b[0m         \u001b[0mbound\u001b[0m \u001b[0;34m=\u001b[0m \u001b[0mnew_sig\u001b[0m\u001b[0;34m.\u001b[0m\u001b[0mbind\u001b[0m\u001b[0;34m(\u001b[0m\u001b[0max\u001b[0m\u001b[0;34m,\u001b[0m \u001b[0;34m*\u001b[0m\u001b[0margs\u001b[0m\u001b[0;34m,\u001b[0m \u001b[0;34m**\u001b[0m\u001b[0mkwargs\u001b[0m\u001b[0;34m)\u001b[0m\u001b[0;34m\u001b[0m\u001b[0;34m\u001b[0m\u001b[0m\n",
            "\u001b[0;32m/usr/local/lib/python3.6/dist-packages/matplotlib/cbook/deprecation.py\u001b[0m in \u001b[0;36mwrapper\u001b[0;34m(*args, **kwargs)\u001b[0m\n\u001b[1;32m    356\u001b[0m                 \u001b[0;34mf\"%(removal)s.  If any parameter follows {name!r}, they \"\u001b[0m\u001b[0;34m\u001b[0m\u001b[0;34m\u001b[0m\u001b[0m\n\u001b[1;32m    357\u001b[0m                 f\"should be pass as keyword, not positionally.\")\n\u001b[0;32m--> 358\u001b[0;31m         \u001b[0;32mreturn\u001b[0m \u001b[0mfunc\u001b[0m\u001b[0;34m(\u001b[0m\u001b[0;34m*\u001b[0m\u001b[0margs\u001b[0m\u001b[0;34m,\u001b[0m \u001b[0;34m**\u001b[0m\u001b[0mkwargs\u001b[0m\u001b[0;34m)\u001b[0m\u001b[0;34m\u001b[0m\u001b[0;34m\u001b[0m\u001b[0m\n\u001b[0m\u001b[1;32m    359\u001b[0m \u001b[0;34m\u001b[0m\u001b[0m\n\u001b[1;32m    360\u001b[0m     \u001b[0;32mreturn\u001b[0m \u001b[0mwrapper\u001b[0m\u001b[0;34m\u001b[0m\u001b[0;34m\u001b[0m\u001b[0m\n",
            "\u001b[0;32m/usr/local/lib/python3.6/dist-packages/matplotlib/cbook/deprecation.py\u001b[0m in \u001b[0;36mwrapper\u001b[0;34m(*args, **kwargs)\u001b[0m\n\u001b[1;32m    356\u001b[0m                 \u001b[0;34mf\"%(removal)s.  If any parameter follows {name!r}, they \"\u001b[0m\u001b[0;34m\u001b[0m\u001b[0;34m\u001b[0m\u001b[0m\n\u001b[1;32m    357\u001b[0m                 f\"should be pass as keyword, not positionally.\")\n\u001b[0;32m--> 358\u001b[0;31m         \u001b[0;32mreturn\u001b[0m \u001b[0mfunc\u001b[0m\u001b[0;34m(\u001b[0m\u001b[0;34m*\u001b[0m\u001b[0margs\u001b[0m\u001b[0;34m,\u001b[0m \u001b[0;34m**\u001b[0m\u001b[0mkwargs\u001b[0m\u001b[0;34m)\u001b[0m\u001b[0;34m\u001b[0m\u001b[0;34m\u001b[0m\u001b[0m\n\u001b[0m\u001b[1;32m    359\u001b[0m \u001b[0;34m\u001b[0m\u001b[0m\n\u001b[1;32m    360\u001b[0m     \u001b[0;32mreturn\u001b[0m \u001b[0mwrapper\u001b[0m\u001b[0;34m\u001b[0m\u001b[0;34m\u001b[0m\u001b[0m\n",
            "\u001b[0;32m/usr/local/lib/python3.6/dist-packages/matplotlib/axes/_axes.py\u001b[0m in \u001b[0;36mimshow\u001b[0;34m(self, X, cmap, norm, aspect, interpolation, alpha, vmin, vmax, origin, extent, shape, filternorm, filterrad, imlim, resample, url, **kwargs)\u001b[0m\n\u001b[1;32m   5613\u001b[0m                               resample=resample, **kwargs)\n\u001b[1;32m   5614\u001b[0m \u001b[0;34m\u001b[0m\u001b[0m\n\u001b[0;32m-> 5615\u001b[0;31m         \u001b[0mim\u001b[0m\u001b[0;34m.\u001b[0m\u001b[0mset_data\u001b[0m\u001b[0;34m(\u001b[0m\u001b[0mX\u001b[0m\u001b[0;34m)\u001b[0m\u001b[0;34m\u001b[0m\u001b[0;34m\u001b[0m\u001b[0m\n\u001b[0m\u001b[1;32m   5616\u001b[0m         \u001b[0mim\u001b[0m\u001b[0;34m.\u001b[0m\u001b[0mset_alpha\u001b[0m\u001b[0;34m(\u001b[0m\u001b[0malpha\u001b[0m\u001b[0;34m)\u001b[0m\u001b[0;34m\u001b[0m\u001b[0;34m\u001b[0m\u001b[0m\n\u001b[1;32m   5617\u001b[0m         \u001b[0;32mif\u001b[0m \u001b[0mim\u001b[0m\u001b[0;34m.\u001b[0m\u001b[0mget_clip_path\u001b[0m\u001b[0;34m(\u001b[0m\u001b[0;34m)\u001b[0m \u001b[0;32mis\u001b[0m \u001b[0;32mNone\u001b[0m\u001b[0;34m:\u001b[0m\u001b[0;34m\u001b[0m\u001b[0;34m\u001b[0m\u001b[0m\n",
            "\u001b[0;32m/usr/local/lib/python3.6/dist-packages/matplotlib/image.py\u001b[0m in \u001b[0;36mset_data\u001b[0;34m(self, A)\u001b[0m\n\u001b[1;32m    697\u001b[0m                 or self._A.ndim == 3 and self._A.shape[-1] in [3, 4]):\n\u001b[1;32m    698\u001b[0m             raise TypeError(\"Invalid shape {} for image data\"\n\u001b[0;32m--> 699\u001b[0;31m                             .format(self._A.shape))\n\u001b[0m\u001b[1;32m    700\u001b[0m \u001b[0;34m\u001b[0m\u001b[0m\n\u001b[1;32m    701\u001b[0m         \u001b[0;32mif\u001b[0m \u001b[0mself\u001b[0m\u001b[0;34m.\u001b[0m\u001b[0m_A\u001b[0m\u001b[0;34m.\u001b[0m\u001b[0mndim\u001b[0m \u001b[0;34m==\u001b[0m \u001b[0;36m3\u001b[0m\u001b[0;34m:\u001b[0m\u001b[0;34m\u001b[0m\u001b[0;34m\u001b[0m\u001b[0m\n",
            "\u001b[0;31mTypeError\u001b[0m: Invalid shape (380,) for image data"
          ]
        },
        {
          "output_type": "display_data",
          "data": {
            "image/png": "[encoded data removed]",
            "text/plain": [
              "<Figure size 432x288 with 1 Axes>"
            ]
          },
          "metadata": {
            "tags": [],
            "needs_background": "light"
          }
        }
      ]
    },
    {
      "cell_type": "code",
      "metadata": {
        "id": "SD-jXypUenON",
        "colab_type": "code",
        "colab": {
          "base_uri": "https://localhost:8080/",
          "height": 237
        },
        "outputId": "d9e5a55d-1389-4a4a-9e8f-f6cb9afdaf7d"
      },
      "source": [
        "IR=ncfile.variables['lon'][0]\n",
        "IR2=ncfile.variables['time'][0]\n",
        "IR3=ncfile.variables['lat'][0]\n",
        "IR4=ncfile.variables['zos'][0]\n",
        "print(IR)\n",
        "print(IR2)\n",
        "print(IR3)\n",
        "print(IR4)\n"
      ],
      "execution_count": null,
      "outputs": [
        {
          "output_type": "error",
          "ename": "NameError",
          "evalue": "ignored",
          "traceback": [
            "\u001b[0;31m---------------------------------------------------------------------------\u001b[0m",
            "\u001b[0;31mNameError\u001b[0m                                 Traceback (most recent call last)",
            "\u001b[0;32m<ipython-input-2-4a43be0d6fe6>\u001b[0m in \u001b[0;36m<module>\u001b[0;34m()\u001b[0m\n\u001b[0;32m----> 1\u001b[0;31m \u001b[0mIR\u001b[0m\u001b[0;34m=\u001b[0m\u001b[0mncfile\u001b[0m\u001b[0;34m.\u001b[0m\u001b[0mvariables\u001b[0m\u001b[0;34m[\u001b[0m\u001b[0;34m'lon'\u001b[0m\u001b[0;34m]\u001b[0m\u001b[0;34m[\u001b[0m\u001b[0;36m0\u001b[0m\u001b[0;34m]\u001b[0m\u001b[0;34m\u001b[0m\u001b[0;34m\u001b[0m\u001b[0m\n\u001b[0m\u001b[1;32m      2\u001b[0m \u001b[0mIR2\u001b[0m\u001b[0;34m=\u001b[0m\u001b[0mncfile\u001b[0m\u001b[0;34m.\u001b[0m\u001b[0mvariables\u001b[0m\u001b[0;34m[\u001b[0m\u001b[0;34m'time'\u001b[0m\u001b[0;34m]\u001b[0m\u001b[0;34m[\u001b[0m\u001b[0;36m0\u001b[0m\u001b[0;34m]\u001b[0m\u001b[0;34m\u001b[0m\u001b[0;34m\u001b[0m\u001b[0m\n\u001b[1;32m      3\u001b[0m \u001b[0mIR3\u001b[0m\u001b[0;34m=\u001b[0m\u001b[0mncfile\u001b[0m\u001b[0;34m.\u001b[0m\u001b[0mvariables\u001b[0m\u001b[0;34m[\u001b[0m\u001b[0;34m'lat'\u001b[0m\u001b[0;34m]\u001b[0m\u001b[0;34m[\u001b[0m\u001b[0;36m0\u001b[0m\u001b[0;34m]\u001b[0m\u001b[0;34m\u001b[0m\u001b[0;34m\u001b[0m\u001b[0m\n\u001b[1;32m      4\u001b[0m \u001b[0mIR4\u001b[0m\u001b[0;34m=\u001b[0m\u001b[0mncfile\u001b[0m\u001b[0;34m.\u001b[0m\u001b[0mvariables\u001b[0m\u001b[0;34m[\u001b[0m\u001b[0;34m'zos'\u001b[0m\u001b[0;34m]\u001b[0m\u001b[0;34m[\u001b[0m\u001b[0;36m0\u001b[0m\u001b[0;34m]\u001b[0m\u001b[0;34m\u001b[0m\u001b[0;34m\u001b[0m\u001b[0m\n\u001b[1;32m      5\u001b[0m \u001b[0mprint\u001b[0m\u001b[0;34m(\u001b[0m\u001b[0mIR\u001b[0m\u001b[0;34m)\u001b[0m\u001b[0;34m\u001b[0m\u001b[0;34m\u001b[0m\u001b[0m\n",
            "\u001b[0;31mNameError\u001b[0m: name 'ncfile' is not defined"
          ]
        }
      ]
    },
    {
      "cell_type": "code",
      "metadata": {
        "id": "YXhPm43tPXJe",
        "colab_type": "code",
        "colab": {
          "base_uri": "https://localhost:8080/",
          "height": 341
        },
        "outputId": "8c11e904-df37-42b1-dd9b-880bc893cd3b"
      },
      "source": [
        "print(len(ncfile.variables['lat']))\n",
        "print(len(ncfile.variables['zos'][0]))\n",
        "for i in range(379):\n",
        "    IR=ncfile.variables['lon'][i+1]\n",
        "    IR2=ncfile.variables['lat'][i+1]\n",
        "    IR3=ncfile.variables['zos'][i+1]\n",
        "    print(\"Total score for %d is %d  \", IR, IR2)\n",
        "    print(\"Total score for %d   \", IR3)\n",
        "\n",
        " "
      ],
      "execution_count": null,
      "outputs": [
        {
          "output_type": "stream",
          "text": [
            "380\n",
            "380\n"
          ],
          "name": "stdout"
        },
        {
          "output_type": "error",
          "ename": "IndexError",
          "evalue": "ignored",
          "traceback": [
            "\u001b[0;31m---------------------------------------------------------------------------\u001b[0m",
            "\u001b[0;31mIndexError\u001b[0m                                Traceback (most recent call last)",
            "\u001b[0;32m<ipython-input-33-842dec47d7ba>\u001b[0m in \u001b[0;36m<module>\u001b[0;34m()\u001b[0m\n\u001b[1;32m      4\u001b[0m     \u001b[0mIR\u001b[0m\u001b[0;34m=\u001b[0m\u001b[0mncfile\u001b[0m\u001b[0;34m.\u001b[0m\u001b[0mvariables\u001b[0m\u001b[0;34m[\u001b[0m\u001b[0;34m'lon'\u001b[0m\u001b[0;34m]\u001b[0m\u001b[0;34m[\u001b[0m\u001b[0mi\u001b[0m\u001b[0;34m+\u001b[0m\u001b[0;36m1\u001b[0m\u001b[0;34m]\u001b[0m\u001b[0;34m\u001b[0m\u001b[0;34m\u001b[0m\u001b[0m\n\u001b[1;32m      5\u001b[0m     \u001b[0mIR2\u001b[0m\u001b[0;34m=\u001b[0m\u001b[0mncfile\u001b[0m\u001b[0;34m.\u001b[0m\u001b[0mvariables\u001b[0m\u001b[0;34m[\u001b[0m\u001b[0;34m'lat'\u001b[0m\u001b[0;34m]\u001b[0m\u001b[0;34m[\u001b[0m\u001b[0mi\u001b[0m\u001b[0;34m+\u001b[0m\u001b[0;36m1\u001b[0m\u001b[0;34m]\u001b[0m\u001b[0;34m\u001b[0m\u001b[0;34m\u001b[0m\u001b[0m\n\u001b[0;32m----> 6\u001b[0;31m     \u001b[0mIR3\u001b[0m\u001b[0;34m=\u001b[0m\u001b[0mncfile\u001b[0m\u001b[0;34m.\u001b[0m\u001b[0mvariables\u001b[0m\u001b[0;34m[\u001b[0m\u001b[0;34m'zos'\u001b[0m\u001b[0;34m]\u001b[0m\u001b[0;34m[\u001b[0m\u001b[0mi\u001b[0m\u001b[0;34m+\u001b[0m\u001b[0;36m1\u001b[0m\u001b[0;34m]\u001b[0m\u001b[0;34m\u001b[0m\u001b[0;34m\u001b[0m\u001b[0m\n\u001b[0m\u001b[1;32m      7\u001b[0m     \u001b[0mprint\u001b[0m\u001b[0;34m(\u001b[0m\u001b[0;34m\"Total score for %d is %d  \"\u001b[0m\u001b[0;34m,\u001b[0m \u001b[0mIR\u001b[0m\u001b[0;34m,\u001b[0m \u001b[0mIR2\u001b[0m\u001b[0;34m)\u001b[0m\u001b[0;34m\u001b[0m\u001b[0;34m\u001b[0m\u001b[0m\n\u001b[1;32m      8\u001b[0m     \u001b[0mprint\u001b[0m\u001b[0;34m(\u001b[0m\u001b[0;34m\"Total score for %d   \"\u001b[0m\u001b[0;34m,\u001b[0m \u001b[0mIR3\u001b[0m\u001b[0;34m)\u001b[0m\u001b[0;34m\u001b[0m\u001b[0;34m\u001b[0m\u001b[0m\n",
            "\u001b[0;32mnetCDF4/_netCDF4.pyx\u001b[0m in \u001b[0;36mnetCDF4._netCDF4.Variable.__getitem__\u001b[0;34m()\u001b[0m\n",
            "\u001b[0;32mnetCDF4/_netCDF4.pyx\u001b[0m in \u001b[0;36mnetCDF4._netCDF4.Variable._get\u001b[0;34m()\u001b[0m\n",
            "\u001b[0;31mIndexError\u001b[0m: index exceeds dimension bounds"
          ]
        }
      ]
    },
    {
      "cell_type": "code",
      "metadata": {
        "id": "TCYzAu9bRvoF",
        "colab_type": "code",
        "colab": {
          "base_uri": "https://localhost:8080/",
          "height": 86
        },
        "outputId": "8fc6a167-d440-4d23-f6d7-3c42461e4fb4"
      },
      "source": [
        "print(ncfile.variables.keys()) # get all variable names\n",
        "for d in ncfile.dimensions.items():\n",
        "    print(d)"
      ],
      "execution_count": null,
      "outputs": [
        {
          "output_type": "stream",
          "text": [
            "odict_keys(['latitude', 'longitude', 'depth', 'deptho_lev', 'mask', 'deptho'])\n",
            "('latitude', <class 'netCDF4._netCDF4.Dimension'>: name = 'latitude', size = 380)\n",
            "('longitude', <class 'netCDF4._netCDF4.Dimension'>: name = 'longitude', size = 1287)\n",
            "('depth', <class 'netCDF4._netCDF4.Dimension'>: name = 'depth', size = 141)\n"
          ],
          "name": "stdout"
        }
      ]
    },
    {
      "cell_type": "code",
      "metadata": {
        "id": "B--ciA-fTd0U",
        "colab_type": "code",
        "colab": {
          "base_uri": "https://localhost:8080/",
          "height": 202
        },
        "outputId": "3933f726-1c51-478c-dca4-552cce0e7281"
      },
      "source": [
        "# Each variable has a dimensions and a shape attribute.\n",
        "time = ncfile.variables['zos']  \n",
        "print(time)\n"
      ],
      "execution_count": null,
      "outputs": [
        {
          "output_type": "error",
          "ename": "KeyError",
          "evalue": "ignored",
          "traceback": [
            "\u001b[0;31m---------------------------------------------------------------------------\u001b[0m",
            "\u001b[0;31mKeyError\u001b[0m                                  Traceback (most recent call last)",
            "\u001b[0;32m<ipython-input-21-17e0a9ac252d>\u001b[0m in \u001b[0;36m<module>\u001b[0;34m()\u001b[0m\n\u001b[1;32m      1\u001b[0m \u001b[0;31m# Each variable has a dimensions and a shape attribute.\u001b[0m\u001b[0;34m\u001b[0m\u001b[0;34m\u001b[0m\u001b[0;34m\u001b[0m\u001b[0m\n\u001b[0;32m----> 2\u001b[0;31m \u001b[0mtime\u001b[0m \u001b[0;34m=\u001b[0m \u001b[0mncfile\u001b[0m\u001b[0;34m.\u001b[0m\u001b[0mvariables\u001b[0m\u001b[0;34m[\u001b[0m\u001b[0;34m'zos'\u001b[0m\u001b[0;34m]\u001b[0m\u001b[0;34m\u001b[0m\u001b[0;34m\u001b[0m\u001b[0m\n\u001b[0m\u001b[1;32m      3\u001b[0m \u001b[0mprint\u001b[0m\u001b[0;34m(\u001b[0m\u001b[0mtime\u001b[0m\u001b[0;34m)\u001b[0m\u001b[0;34m\u001b[0m\u001b[0;34m\u001b[0m\u001b[0m\n",
            "\u001b[0;31mKeyError\u001b[0m: 'zos'"
          ]
        }
      ]
    },
    {
      "cell_type": "code",
      "metadata": {
        "id": "fIISnV8iUHya",
        "colab_type": "code",
        "colab": {
          "base_uri": "https://localhost:8080/",
          "height": 34
        },
        "outputId": "95450f20-6b56-48d4-ca4e-dbf8666d24f4"
      },
      "source": [
        " #shape attribute.\n",
        "print(time.shape)"
      ],
      "execution_count": null,
      "outputs": [
        {
          "output_type": "stream",
          "text": [
            "(1,)\n"
          ],
          "name": "stdout"
        }
      ]
    },
    {
      "cell_type": "code",
      "metadata": {
        "id": "e01hQnDiU0nU",
        "colab_type": "code",
        "colab": {
          "base_uri": "https://localhost:8080/",
          "height": 34
        },
        "outputId": "207fef8f-62f7-4045-9f69-917b77596a90"
      },
      "source": [
        "# Each variable has a dimensions and a shape attribute.\n",
        "\n",
        "downloaded = drive.CreateFile({'id':\"1a0w9Qh3-y3gnAGDu17XnAczqrEIx9nzG\"})   # replace the id with id of file you want to access\n",
        "downloaded.GetContentFile('MED-MFC_006_013_coordinates.nc')\n",
        "fp='MED-MFC_006_013_coordinates.nc'\n",
        "ncfile = netCDF4.Dataset(fp) #\n",
        "print(ncfile.variables.keys())\n"
      ],
      "execution_count": null,
      "outputs": [
        {
          "output_type": "stream",
          "text": [
            "odict_keys(['e1t', 'e2t', 'e3t', 'latitude', 'longitude', 'depth'])\n"
          ],
          "name": "stdout"
        }
      ]
    },
    {
      "cell_type": "code",
      "metadata": {
        "id": "2FnSMRj9clrg",
        "colab_type": "code",
        "colab": {
          "base_uri": "https://localhost:8080/",
          "height": 34
        },
        "outputId": "0253b6f2-f1b7-4ced-f1b6-45e170d72784"
      },
      "source": [
        "\n",
        "downloaded = drive.CreateFile({'id':\"1e2hwjPJmiXSTCte9JT2ZG1CXKmqXq6Km\"})   # replace the id with id of file you want to access\n",
        "downloaded.GetContentFile('MED-MFC_006_013_mask_bathy.nc')\n",
        "fp='MED-MFC_006_013_mask_bathy.nc'\n",
        "ncfile = netCDF4.Dataset(fp) #\n",
        "print(ncfile.variables.keys())\n"
      ],
      "execution_count": null,
      "outputs": [
        {
          "output_type": "stream",
          "text": [
            "odict_keys(['latitude', 'longitude', 'depth', 'deptho_lev', 'mask', 'deptho'])\n"
          ],
          "name": "stdout"
        }
      ]
    },
    {
      "cell_type": "code",
      "metadata": {
        "id": "aMS6t-A9U7n8",
        "colab_type": "code",
        "colab": {
          "base_uri": "https://localhost:8080/",
          "height": 237
        },
        "outputId": "fbafe478-1fda-45e4-8354-70e39c31be76"
      },
      "source": [
        ""
      ],
      "execution_count": null,
      "outputs": [
        {
          "output_type": "error",
          "ename": "OSError",
          "evalue": "ignored",
          "traceback": [
            "\u001b[0;31m---------------------------------------------------------------------------\u001b[0m",
            "\u001b[0;31mOSError\u001b[0m                                   Traceback (most recent call last)",
            "\u001b[0;32m<ipython-input-16-7064f492b370>\u001b[0m in \u001b[0;36m<module>\u001b[0;34m()\u001b[0m\n\u001b[1;32m      1\u001b[0m \u001b[0;32mfrom\u001b[0m \u001b[0mnetCDF4\u001b[0m \u001b[0;32mimport\u001b[0m \u001b[0mMFDataset\u001b[0m\u001b[0;34m\u001b[0m\u001b[0;34m\u001b[0m\u001b[0m\n\u001b[0;32m----> 2\u001b[0;31m \u001b[0mf\u001b[0m \u001b[0;34m=\u001b[0m \u001b[0mMFDataset\u001b[0m\u001b[0;34m(\u001b[0m\u001b[0;34m\"MED*nc\"\u001b[0m\u001b[0;34m)\u001b[0m\u001b[0;34m\u001b[0m\u001b[0;34m\u001b[0m\u001b[0m\n\u001b[0m\u001b[1;32m      3\u001b[0m \u001b[0mprint\u001b[0m\u001b[0;34m(\u001b[0m\u001b[0mf\u001b[0m\u001b[0;34m.\u001b[0m\u001b[0mvariables\u001b[0m\u001b[0;34m[\u001b[0m\u001b[0;34m\"x\"\u001b[0m\u001b[0;34m]\u001b[0m\u001b[0;34m[\u001b[0m\u001b[0;34m:\u001b[0m\u001b[0;34m]\u001b[0m\u001b[0;34m)\u001b[0m\u001b[0;34m\u001b[0m\u001b[0;34m\u001b[0m\u001b[0m\n",
            "\u001b[0;32mnetCDF4/_netCDF4.pyx\u001b[0m in \u001b[0;36mnetCDF4._netCDF4.MFDataset.__init__\u001b[0;34m()\u001b[0m\n",
            "\u001b[0;31mOSError\u001b[0m: master dataset MED-MFC_006_013_coordinates.nc does not have a aggregation dimension"
          ]
        }
      ]
    },
    {
      "cell_type": "code",
      "metadata": {
        "id": "X4iz2tOAaTbi",
        "colab_type": "code",
        "colab": {}
      },
      "source": [
        ""
      ],
      "execution_count": null,
      "outputs": []
    },
    {
      "cell_type": "markdown",
      "metadata": {
        "id": "AzxX7VuVVEcI",
        "colab_type": "text"
      },
      "source": [
        "\n",
        "Accessing data from a netCDF variable object\n",
        "\n",
        "    netCDF variables objects behave much like numpy arrays.\n",
        "    slicing a netCDF variable object returns a numpy array with the data.\n",
        "    Boolean array and integer sequence indexing behaves differently for netCDF variables than for numpy arrays. Only 1-d boolean arrays and integer sequences are allowed, and these indices work independently along each dimension (similar to the way vector subscripts work in fortran).\n",
        "\n"
      ]
    },
    {
      "cell_type": "code",
      "metadata": {
        "id": "ol53b6e4VYht",
        "colab_type": "code",
        "colab": {
          "base_uri": "https://localhost:8080/",
          "height": 972
        },
        "outputId": "120f3c40-be5c-413a-80bf-d1dbe486f0b0"
      },
      "source": [
        "lat = lat[:]  # Reads the netCDF variable MT, array of one element\n",
        "print(lat)"
      ],
      "execution_count": null,
      "outputs": [
        {
          "output_type": "stream",
          "text": [
            "[30.1875   30.229166 30.270834 30.3125   30.354166 30.395834 30.4375\n",
            " 30.479166 30.520834 30.5625   30.604166 30.645834 30.6875   30.729166\n",
            " 30.770834 30.8125   30.854166 30.895834 30.9375   30.979166 31.020834\n",
            " 31.0625   31.104166 31.145834 31.1875   31.229166 31.270834 31.3125\n",
            " 31.354166 31.395834 31.4375   31.479166 31.520834 31.5625   31.604166\n",
            " 31.645834 31.6875   31.729166 31.770834 31.8125   31.854166 31.895834\n",
            " 31.9375   31.979166 32.020832 32.0625   32.104168 32.145832 32.1875\n",
            " 32.229168 32.270832 32.3125   32.354168 32.395832 32.4375   32.479168\n",
            " 32.520832 32.5625   32.604168 32.645832 32.6875   32.729168 32.770832\n",
            " 32.8125   32.854168 32.895832 32.9375   32.979168 33.020832 33.0625\n",
            " 33.104168 33.145832 33.1875   33.229168 33.270832 33.3125   33.354168\n",
            " 33.395832 33.4375   33.479168 33.520832 33.5625   33.604168 33.645832\n",
            " 33.6875   33.729168 33.770832 33.8125   33.854168 33.895832 33.9375\n",
            " 33.979168 34.020832 34.0625   34.104168 34.145832 34.1875   34.229168\n",
            " 34.270832 34.3125   34.354168 34.395832 34.4375   34.479168 34.520832\n",
            " 34.5625   34.604168 34.645832 34.6875   34.729168 34.770832 34.8125\n",
            " 34.854168 34.895832 34.9375   34.979168 35.020832 35.0625   35.104168\n",
            " 35.145832 35.1875   35.229168 35.270832 35.3125   35.354168 35.395832\n",
            " 35.4375   35.479168 35.520832 35.5625   35.604168 35.645832 35.6875\n",
            " 35.729168 35.770832 35.8125   35.854168 35.895832 35.9375   35.979168\n",
            " 36.020832 36.0625   36.104168 36.145832 36.1875   36.229168 36.270832\n",
            " 36.3125   36.354168 36.395832 36.4375   36.479168 36.520832 36.5625\n",
            " 36.604168 36.645832 36.6875   36.729168 36.770832 36.8125   36.854168\n",
            " 36.895832 36.9375   36.979168 37.020832 37.0625   37.104168 37.145832\n",
            " 37.1875   37.229168 37.270832 37.3125   37.354168 37.395832 37.4375\n",
            " 37.479168 37.520832 37.5625   37.604168 37.645832 37.6875   37.729168\n",
            " 37.770832 37.8125   37.854168 37.895832 37.9375   37.979168 38.020832\n",
            " 38.0625   38.104168 38.145832 38.1875   38.229168 38.270832 38.3125\n",
            " 38.354168 38.395832 38.4375   38.479168 38.520832 38.5625   38.604168\n",
            " 38.645832 38.6875   38.729168 38.770832 38.8125   38.854168 38.895832\n",
            " 38.9375   38.979168 39.020832 39.0625   39.104168 39.145832 39.1875\n",
            " 39.229168 39.270832 39.3125   39.354168 39.395832 39.4375   39.479168\n",
            " 39.520832 39.5625   39.604168 39.645832 39.6875   39.729168 39.770832\n",
            " 39.8125   39.854168 39.895832 39.9375   39.979168 40.020832 40.0625\n",
            " 40.104168 40.145832 40.1875   40.229168 40.270832 40.3125   40.354168\n",
            " 40.395832 40.4375   40.479168 40.520832 40.5625   40.604168 40.645832\n",
            " 40.6875   40.729168 40.770832 40.8125   40.854168 40.895832 40.9375\n",
            " 40.979168 41.020832 41.0625   41.104168 41.145832 41.1875   41.229168\n",
            " 41.270832 41.3125   41.354168 41.395832 41.4375   41.479168 41.520832\n",
            " 41.5625   41.604168 41.645832 41.6875   41.729168 41.770832 41.8125\n",
            " 41.854168 41.895832 41.9375   41.979168 42.020832 42.0625   42.104168\n",
            " 42.145832 42.1875   42.229168 42.270832 42.3125   42.354168 42.395832\n",
            " 42.4375   42.479168 42.520832 42.5625   42.604168 42.645832 42.6875\n",
            " 42.729168 42.770832 42.8125   42.854168 42.895832 42.9375   42.979168\n",
            " 43.020832 43.0625   43.104168 43.145832 43.1875   43.229168 43.270832\n",
            " 43.3125   43.354168 43.395832 43.4375   43.479168 43.520832 43.5625\n",
            " 43.604168 43.645832 43.6875   43.729168 43.770832 43.8125   43.854168\n",
            " 43.895832 43.9375   43.979168 44.020832 44.0625   44.104168 44.145832\n",
            " 44.1875   44.229168 44.270832 44.3125   44.354168 44.395832 44.4375\n",
            " 44.479168 44.520832 44.5625   44.604168 44.645832 44.6875   44.729168\n",
            " 44.770832 44.8125   44.854168 44.895832 44.9375   44.979168 45.020832\n",
            " 45.0625   45.104168 45.145832 45.1875   45.229168 45.270832 45.3125\n",
            " 45.354168 45.395832 45.4375   45.479168 45.520832 45.5625   45.604168\n",
            " 45.645832 45.6875   45.729168 45.770832 45.8125   45.854168 45.895832\n",
            " 45.9375   45.979168]\n"
          ],
          "name": "stdout"
        }
      ]
    },
    {
      "cell_type": "code",
      "metadata": {
        "id": "dJrFLioRVmHT",
        "colab_type": "code",
        "colab": {
          "base_uri": "https://localhost:8080/",
          "height": 202
        },
        "outputId": "ddb3ccde-6483-496e-b61a-faa388ad03db"
      },
      "source": [
        "lon = ncfile.variables['lon'] \n",
        "lon = lon[:]  # Reads the netCDF variable lon, array of one element\n",
        "print(lon)"
      ],
      "execution_count": null,
      "outputs": [
        {
          "output_type": "error",
          "ename": "KeyError",
          "evalue": "ignored",
          "traceback": [
            "\u001b[0;31m---------------------------------------------------------------------------\u001b[0m",
            "\u001b[0;31mKeyError\u001b[0m                                  Traceback (most recent call last)",
            "\u001b[0;32m<ipython-input-36-8691db8cc983>\u001b[0m in \u001b[0;36m<module>\u001b[0;34m()\u001b[0m\n\u001b[0;32m----> 1\u001b[0;31m \u001b[0mlon\u001b[0m \u001b[0;34m=\u001b[0m \u001b[0mncfile\u001b[0m\u001b[0;34m.\u001b[0m\u001b[0mvariables\u001b[0m\u001b[0;34m[\u001b[0m\u001b[0;34m'lon'\u001b[0m\u001b[0;34m]\u001b[0m\u001b[0;34m\u001b[0m\u001b[0;34m\u001b[0m\u001b[0m\n\u001b[0m\u001b[1;32m      2\u001b[0m \u001b[0mlon\u001b[0m \u001b[0;34m=\u001b[0m \u001b[0mlon\u001b[0m\u001b[0;34m[\u001b[0m\u001b[0;34m:\u001b[0m\u001b[0;34m]\u001b[0m  \u001b[0;31m# Reads the netCDF variable lon, array of one element\u001b[0m\u001b[0;34m\u001b[0m\u001b[0;34m\u001b[0m\u001b[0m\n\u001b[1;32m      3\u001b[0m \u001b[0mprint\u001b[0m\u001b[0;34m(\u001b[0m\u001b[0mlon\u001b[0m\u001b[0;34m)\u001b[0m\u001b[0;34m\u001b[0m\u001b[0;34m\u001b[0m\u001b[0m\n",
            "\u001b[0;31mKeyError\u001b[0m: 'lon'"
          ]
        }
      ]
    },
    {
      "cell_type": "code",
      "metadata": {
        "id": "8uFzVA2xthH_",
        "colab_type": "code",
        "colab": {
          "base_uri": "https://localhost:8080/",
          "height": 521
        },
        "outputId": "05388991-a134-40a7-c246-29b49ea6c3d6"
      },
      "source": [
        "downloaded = drive.CreateFile({'id':\"1a0w9Qh3-y3gnAGDu17XnAczqrEIx9nzG\"})   # replace the id with id of file you want to access\n",
        "downloaded.GetContentFile('MED-MFC_006_013_coordinates.nc')\n",
        "fp='MED-MFC_006_013_coordinates.nc'\n",
        "ncfile = netCDF4.Dataset(fp) #\n",
        "print(ncfile.variables.keys())\n",
        "lat = ncfile.variables['latitude'] \n",
        "lon = ncfile.variables['longitude'] \n",
        "depth = ncfile.variables['depth'] \n",
        "#print(lat[:])\n",
        "#print(lon[:])\n",
        "#print(depth[:])\n",
        "print(lat.shape)"
      ],
      "execution_count": null,
      "outputs": [
        {
          "output_type": "error",
          "ename": "InvalidConfigError",
          "evalue": "ignored",
          "traceback": [
            "\u001b[0;31m---------------------------------------------------------------------------\u001b[0m",
            "\u001b[0;31mFileNotFoundError\u001b[0m                         Traceback (most recent call last)",
            "\u001b[0;32m/usr/local/lib/python3.6/dist-packages/oauth2client/clientsecrets.py\u001b[0m in \u001b[0;36m_loadfile\u001b[0;34m(filename)\u001b[0m\n\u001b[1;32m    120\u001b[0m     \u001b[0;32mtry\u001b[0m\u001b[0;34m:\u001b[0m\u001b[0;34m\u001b[0m\u001b[0;34m\u001b[0m\u001b[0m\n\u001b[0;32m--> 121\u001b[0;31m         \u001b[0;32mwith\u001b[0m \u001b[0mopen\u001b[0m\u001b[0;34m(\u001b[0m\u001b[0mfilename\u001b[0m\u001b[0;34m,\u001b[0m \u001b[0;34m'r'\u001b[0m\u001b[0;34m)\u001b[0m \u001b[0;32mas\u001b[0m \u001b[0mfp\u001b[0m\u001b[0;34m:\u001b[0m\u001b[0;34m\u001b[0m\u001b[0;34m\u001b[0m\u001b[0m\n\u001b[0m\u001b[1;32m    122\u001b[0m             \u001b[0mobj\u001b[0m \u001b[0;34m=\u001b[0m \u001b[0mjson\u001b[0m\u001b[0;34m.\u001b[0m\u001b[0mload\u001b[0m\u001b[0;34m(\u001b[0m\u001b[0mfp\u001b[0m\u001b[0;34m)\u001b[0m\u001b[0;34m\u001b[0m\u001b[0;34m\u001b[0m\u001b[0m\n",
            "\u001b[0;31mFileNotFoundError\u001b[0m: [Errno 2] No such file or directory: 'client_secrets.json'",
            "\nDuring handling of the above exception, another exception occurred:\n",
            "\u001b[0;31mInvalidClientSecretsError\u001b[0m                 Traceback (most recent call last)",
            "\u001b[0;32m/usr/local/lib/python3.6/dist-packages/pydrive/auth.py\u001b[0m in \u001b[0;36mLoadClientConfigFile\u001b[0;34m(self, client_config_file)\u001b[0m\n\u001b[1;32m    385\u001b[0m     \u001b[0;32mtry\u001b[0m\u001b[0;34m:\u001b[0m\u001b[0;34m\u001b[0m\u001b[0;34m\u001b[0m\u001b[0m\n\u001b[0;32m--> 386\u001b[0;31m       \u001b[0mclient_type\u001b[0m\u001b[0;34m,\u001b[0m \u001b[0mclient_info\u001b[0m \u001b[0;34m=\u001b[0m \u001b[0mclientsecrets\u001b[0m\u001b[0;34m.\u001b[0m\u001b[0mloadfile\u001b[0m\u001b[0;34m(\u001b[0m\u001b[0mclient_config_file\u001b[0m\u001b[0;34m)\u001b[0m\u001b[0;34m\u001b[0m\u001b[0;34m\u001b[0m\u001b[0m\n\u001b[0m\u001b[1;32m    387\u001b[0m     \u001b[0;32mexcept\u001b[0m \u001b[0mclientsecrets\u001b[0m\u001b[0;34m.\u001b[0m\u001b[0mInvalidClientSecretsError\u001b[0m \u001b[0;32mas\u001b[0m \u001b[0merror\u001b[0m\u001b[0;34m:\u001b[0m\u001b[0;34m\u001b[0m\u001b[0;34m\u001b[0m\u001b[0m\n",
            "\u001b[0;32m/usr/local/lib/python3.6/dist-packages/oauth2client/clientsecrets.py\u001b[0m in \u001b[0;36mloadfile\u001b[0;34m(filename, cache)\u001b[0m\n\u001b[1;32m    164\u001b[0m     \u001b[0;32mif\u001b[0m \u001b[0;32mnot\u001b[0m \u001b[0mcache\u001b[0m\u001b[0;34m:\u001b[0m\u001b[0;34m\u001b[0m\u001b[0;34m\u001b[0m\u001b[0m\n\u001b[0;32m--> 165\u001b[0;31m         \u001b[0;32mreturn\u001b[0m \u001b[0m_loadfile\u001b[0m\u001b[0;34m(\u001b[0m\u001b[0mfilename\u001b[0m\u001b[0;34m)\u001b[0m\u001b[0;34m\u001b[0m\u001b[0;34m\u001b[0m\u001b[0m\n\u001b[0m\u001b[1;32m    166\u001b[0m \u001b[0;34m\u001b[0m\u001b[0m\n",
            "\u001b[0;32m/usr/local/lib/python3.6/dist-packages/oauth2client/clientsecrets.py\u001b[0m in \u001b[0;36m_loadfile\u001b[0;34m(filename)\u001b[0m\n\u001b[1;32m    124\u001b[0m         raise InvalidClientSecretsError('Error opening file', exc.filename,\n\u001b[0;32m--> 125\u001b[0;31m                                         exc.strerror, exc.errno)\n\u001b[0m\u001b[1;32m    126\u001b[0m     \u001b[0;32mreturn\u001b[0m \u001b[0m_validate_clientsecrets\u001b[0m\u001b[0;34m(\u001b[0m\u001b[0mobj\u001b[0m\u001b[0;34m)\u001b[0m\u001b[0;34m\u001b[0m\u001b[0;34m\u001b[0m\u001b[0m\n",
            "\u001b[0;31mInvalidClientSecretsError\u001b[0m: ('Error opening file', 'client_secrets.json', 'No such file or directory', 2)",
            "\nDuring handling of the above exception, another exception occurred:\n",
            "\u001b[0;31mInvalidConfigError\u001b[0m                        Traceback (most recent call last)",
            "\u001b[0;32m<ipython-input-17-20d4f3f94e92>\u001b[0m in \u001b[0;36m<module>\u001b[0;34m()\u001b[0m\n\u001b[1;32m      1\u001b[0m \u001b[0mdownloaded\u001b[0m \u001b[0;34m=\u001b[0m \u001b[0mdrive\u001b[0m\u001b[0;34m.\u001b[0m\u001b[0mCreateFile\u001b[0m\u001b[0;34m(\u001b[0m\u001b[0;34m{\u001b[0m\u001b[0;34m'id'\u001b[0m\u001b[0;34m:\u001b[0m\u001b[0;34m\"1a0w9Qh3-y3gnAGDu17XnAczqrEIx9nzG\"\u001b[0m\u001b[0;34m}\u001b[0m\u001b[0;34m)\u001b[0m   \u001b[0;31m# replace the id with id of file you want to access\u001b[0m\u001b[0;34m\u001b[0m\u001b[0;34m\u001b[0m\u001b[0m\n\u001b[0;32m----> 2\u001b[0;31m \u001b[0mdownloaded\u001b[0m\u001b[0;34m.\u001b[0m\u001b[0mGetContentFile\u001b[0m\u001b[0;34m(\u001b[0m\u001b[0;34m'MED-MFC_006_013_coordinates.nc'\u001b[0m\u001b[0;34m)\u001b[0m\u001b[0;34m\u001b[0m\u001b[0;34m\u001b[0m\u001b[0m\n\u001b[0m\u001b[1;32m      3\u001b[0m \u001b[0mfp\u001b[0m\u001b[0;34m=\u001b[0m\u001b[0;34m'MED-MFC_006_013_coordinates.nc'\u001b[0m\u001b[0;34m\u001b[0m\u001b[0;34m\u001b[0m\u001b[0m\n\u001b[1;32m      4\u001b[0m \u001b[0mncfile\u001b[0m \u001b[0;34m=\u001b[0m \u001b[0mnetCDF4\u001b[0m\u001b[0;34m.\u001b[0m\u001b[0mDataset\u001b[0m\u001b[0;34m(\u001b[0m\u001b[0mfp\u001b[0m\u001b[0;34m)\u001b[0m \u001b[0;31m#\u001b[0m\u001b[0;34m\u001b[0m\u001b[0;34m\u001b[0m\u001b[0m\n\u001b[1;32m      5\u001b[0m \u001b[0mprint\u001b[0m\u001b[0;34m(\u001b[0m\u001b[0mncfile\u001b[0m\u001b[0;34m.\u001b[0m\u001b[0mvariables\u001b[0m\u001b[0;34m.\u001b[0m\u001b[0mkeys\u001b[0m\u001b[0;34m(\u001b[0m\u001b[0;34m)\u001b[0m\u001b[0;34m)\u001b[0m\u001b[0;34m\u001b[0m\u001b[0;34m\u001b[0m\u001b[0m\n",
            "\u001b[0;32m/usr/local/lib/python3.6/dist-packages/pydrive/files.py\u001b[0m in \u001b[0;36mGetContentFile\u001b[0;34m(self, filename, mimetype, remove_bom)\u001b[0m\n\u001b[1;32m    208\u001b[0m                     \u001b[0mtype\u001b[0m\u001b[0;34m(\u001b[0m\u001b[0mself\u001b[0m\u001b[0;34m.\u001b[0m\u001b[0mcontent\u001b[0m\u001b[0;34m)\u001b[0m \u001b[0;32mis\u001b[0m \u001b[0;32mnot\u001b[0m \u001b[0mio\u001b[0m\u001b[0;34m.\u001b[0m\u001b[0mBytesIO\u001b[0m \u001b[0;32mor\u001b[0m\u001b[0;31m \u001b[0m\u001b[0;31m\\\u001b[0m\u001b[0;34m\u001b[0m\u001b[0;34m\u001b[0m\u001b[0m\n\u001b[1;32m    209\u001b[0m                     \u001b[0mself\u001b[0m\u001b[0;34m.\u001b[0m\u001b[0mhas_bom\u001b[0m \u001b[0;34m==\u001b[0m \u001b[0mremove_bom\u001b[0m\u001b[0;34m:\u001b[0m\u001b[0;34m\u001b[0m\u001b[0;34m\u001b[0m\u001b[0m\n\u001b[0;32m--> 210\u001b[0;31m       \u001b[0mself\u001b[0m\u001b[0;34m.\u001b[0m\u001b[0mFetchContent\u001b[0m\u001b[0;34m(\u001b[0m\u001b[0mmimetype\u001b[0m\u001b[0;34m,\u001b[0m \u001b[0mremove_bom\u001b[0m\u001b[0;34m)\u001b[0m\u001b[0;34m\u001b[0m\u001b[0;34m\u001b[0m\u001b[0m\n\u001b[0m\u001b[1;32m    211\u001b[0m     \u001b[0mf\u001b[0m \u001b[0;34m=\u001b[0m \u001b[0mopen\u001b[0m\u001b[0;34m(\u001b[0m\u001b[0mfilename\u001b[0m\u001b[0;34m,\u001b[0m \u001b[0;34m'wb'\u001b[0m\u001b[0;34m)\u001b[0m\u001b[0;34m\u001b[0m\u001b[0;34m\u001b[0m\u001b[0m\n\u001b[1;32m    212\u001b[0m     \u001b[0mf\u001b[0m\u001b[0;34m.\u001b[0m\u001b[0mwrite\u001b[0m\u001b[0;34m(\u001b[0m\u001b[0mself\u001b[0m\u001b[0;34m.\u001b[0m\u001b[0mcontent\u001b[0m\u001b[0;34m.\u001b[0m\u001b[0mgetvalue\u001b[0m\u001b[0;34m(\u001b[0m\u001b[0;34m)\u001b[0m\u001b[0;34m)\u001b[0m\u001b[0;34m\u001b[0m\u001b[0;34m\u001b[0m\u001b[0m\n",
            "\u001b[0;32m/usr/local/lib/python3.6/dist-packages/pydrive/files.py\u001b[0m in \u001b[0;36m_decorated\u001b[0;34m(self, *args, **kwargs)\u001b[0m\n\u001b[1;32m     40\u001b[0m   \u001b[0;32mdef\u001b[0m \u001b[0m_decorated\u001b[0m\u001b[0;34m(\u001b[0m\u001b[0mself\u001b[0m\u001b[0;34m,\u001b[0m \u001b[0;34m*\u001b[0m\u001b[0margs\u001b[0m\u001b[0;34m,\u001b[0m \u001b[0;34m**\u001b[0m\u001b[0mkwargs\u001b[0m\u001b[0;34m)\u001b[0m\u001b[0;34m:\u001b[0m\u001b[0;34m\u001b[0m\u001b[0;34m\u001b[0m\u001b[0m\n\u001b[1;32m     41\u001b[0m     \u001b[0;32mif\u001b[0m \u001b[0;32mnot\u001b[0m \u001b[0mself\u001b[0m\u001b[0;34m.\u001b[0m\u001b[0muploaded\u001b[0m\u001b[0;34m:\u001b[0m\u001b[0;34m\u001b[0m\u001b[0;34m\u001b[0m\u001b[0m\n\u001b[0;32m---> 42\u001b[0;31m       \u001b[0mself\u001b[0m\u001b[0;34m.\u001b[0m\u001b[0mFetchMetadata\u001b[0m\u001b[0;34m(\u001b[0m\u001b[0;34m)\u001b[0m\u001b[0;34m\u001b[0m\u001b[0;34m\u001b[0m\u001b[0m\n\u001b[0m\u001b[1;32m     43\u001b[0m     \u001b[0;32mreturn\u001b[0m \u001b[0mdecoratee\u001b[0m\u001b[0;34m(\u001b[0m\u001b[0mself\u001b[0m\u001b[0;34m,\u001b[0m \u001b[0;34m*\u001b[0m\u001b[0margs\u001b[0m\u001b[0;34m,\u001b[0m \u001b[0;34m**\u001b[0m\u001b[0mkwargs\u001b[0m\u001b[0;34m)\u001b[0m\u001b[0;34m\u001b[0m\u001b[0;34m\u001b[0m\u001b[0m\n\u001b[1;32m     44\u001b[0m   \u001b[0;32mreturn\u001b[0m \u001b[0m_decorated\u001b[0m\u001b[0;34m\u001b[0m\u001b[0;34m\u001b[0m\u001b[0m\n",
            "\u001b[0;32m/usr/local/lib/python3.6/dist-packages/pydrive/auth.py\u001b[0m in \u001b[0;36m_decorated\u001b[0;34m(self, *args, **kwargs)\u001b[0m\n\u001b[1;32m     55\u001b[0m         \u001b[0mself\u001b[0m\u001b[0;34m.\u001b[0m\u001b[0mauth\u001b[0m\u001b[0;34m.\u001b[0m\u001b[0mServiceAuth\u001b[0m\u001b[0;34m(\u001b[0m\u001b[0;34m)\u001b[0m\u001b[0;34m\u001b[0m\u001b[0;34m\u001b[0m\u001b[0m\n\u001b[1;32m     56\u001b[0m       \u001b[0;32melse\u001b[0m\u001b[0;34m:\u001b[0m\u001b[0;34m\u001b[0m\u001b[0;34m\u001b[0m\u001b[0m\n\u001b[0;32m---> 57\u001b[0;31m         \u001b[0mself\u001b[0m\u001b[0;34m.\u001b[0m\u001b[0mauth\u001b[0m\u001b[0;34m.\u001b[0m\u001b[0mLocalWebserverAuth\u001b[0m\u001b[0;34m(\u001b[0m\u001b[0;34m)\u001b[0m\u001b[0;34m\u001b[0m\u001b[0;34m\u001b[0m\u001b[0m\n\u001b[0m\u001b[1;32m     58\u001b[0m \u001b[0;34m\u001b[0m\u001b[0m\n\u001b[1;32m     59\u001b[0m     \u001b[0;31m# Initialise service if not built yet.\u001b[0m\u001b[0;34m\u001b[0m\u001b[0;34m\u001b[0m\u001b[0;34m\u001b[0m\u001b[0m\n",
            "\u001b[0;32m/usr/local/lib/python3.6/dist-packages/pydrive/auth.py\u001b[0m in \u001b[0;36m_decorated\u001b[0;34m(self, *args, **kwargs)\u001b[0m\n\u001b[1;32m    111\u001b[0m       \u001b[0mself\u001b[0m\u001b[0;34m.\u001b[0m\u001b[0mLoadCredentials\u001b[0m\u001b[0;34m(\u001b[0m\u001b[0;34m)\u001b[0m\u001b[0;34m\u001b[0m\u001b[0;34m\u001b[0m\u001b[0m\n\u001b[1;32m    112\u001b[0m     \u001b[0;32mif\u001b[0m \u001b[0mself\u001b[0m\u001b[0;34m.\u001b[0m\u001b[0mflow\u001b[0m \u001b[0;32mis\u001b[0m \u001b[0;32mNone\u001b[0m\u001b[0;34m:\u001b[0m\u001b[0;34m\u001b[0m\u001b[0;34m\u001b[0m\u001b[0m\n\u001b[0;32m--> 113\u001b[0;31m       \u001b[0mself\u001b[0m\u001b[0;34m.\u001b[0m\u001b[0mGetFlow\u001b[0m\u001b[0;34m(\u001b[0m\u001b[0;34m)\u001b[0m\u001b[0;34m\u001b[0m\u001b[0;34m\u001b[0m\u001b[0m\n\u001b[0m\u001b[1;32m    114\u001b[0m     \u001b[0;32mif\u001b[0m \u001b[0mself\u001b[0m\u001b[0;34m.\u001b[0m\u001b[0mcredentials\u001b[0m \u001b[0;32mis\u001b[0m \u001b[0;32mNone\u001b[0m\u001b[0;34m:\u001b[0m\u001b[0;34m\u001b[0m\u001b[0;34m\u001b[0m\u001b[0m\n\u001b[1;32m    115\u001b[0m       \u001b[0mcode\u001b[0m \u001b[0;34m=\u001b[0m \u001b[0mdecoratee\u001b[0m\u001b[0;34m(\u001b[0m\u001b[0mself\u001b[0m\u001b[0;34m,\u001b[0m \u001b[0;34m*\u001b[0m\u001b[0margs\u001b[0m\u001b[0;34m,\u001b[0m \u001b[0;34m**\u001b[0m\u001b[0mkwargs\u001b[0m\u001b[0;34m)\u001b[0m\u001b[0;34m\u001b[0m\u001b[0;34m\u001b[0m\u001b[0m\n",
            "\u001b[0;32m/usr/local/lib/python3.6/dist-packages/pydrive/auth.py\u001b[0m in \u001b[0;36mGetFlow\u001b[0;34m(self)\u001b[0m\n\u001b[1;32m    441\u001b[0m     if not all(config in self.client_config \\\n\u001b[1;32m    442\u001b[0m                for config in self.CLIENT_CONFIGS_LIST):\n\u001b[0;32m--> 443\u001b[0;31m       \u001b[0mself\u001b[0m\u001b[0;34m.\u001b[0m\u001b[0mLoadClientConfig\u001b[0m\u001b[0;34m(\u001b[0m\u001b[0;34m)\u001b[0m\u001b[0;34m\u001b[0m\u001b[0;34m\u001b[0m\u001b[0m\n\u001b[0m\u001b[1;32m    444\u001b[0m     constructor_kwargs = {\n\u001b[1;32m    445\u001b[0m         \u001b[0;34m'redirect_uri'\u001b[0m\u001b[0;34m:\u001b[0m \u001b[0mself\u001b[0m\u001b[0;34m.\u001b[0m\u001b[0mclient_config\u001b[0m\u001b[0;34m[\u001b[0m\u001b[0;34m'redirect_uri'\u001b[0m\u001b[0;34m]\u001b[0m\u001b[0;34m,\u001b[0m\u001b[0;34m\u001b[0m\u001b[0;34m\u001b[0m\u001b[0m\n",
            "\u001b[0;32m/usr/local/lib/python3.6/dist-packages/pydrive/auth.py\u001b[0m in \u001b[0;36mLoadClientConfig\u001b[0;34m(self, backend)\u001b[0m\n\u001b[1;32m    364\u001b[0m         \u001b[0;32mraise\u001b[0m \u001b[0mInvalidConfigError\u001b[0m\u001b[0;34m(\u001b[0m\u001b[0;34m'Please specify client config backend'\u001b[0m\u001b[0;34m)\u001b[0m\u001b[0;34m\u001b[0m\u001b[0;34m\u001b[0m\u001b[0m\n\u001b[1;32m    365\u001b[0m     \u001b[0;32mif\u001b[0m \u001b[0mbackend\u001b[0m \u001b[0;34m==\u001b[0m \u001b[0;34m'file'\u001b[0m\u001b[0;34m:\u001b[0m\u001b[0;34m\u001b[0m\u001b[0;34m\u001b[0m\u001b[0m\n\u001b[0;32m--> 366\u001b[0;31m       \u001b[0mself\u001b[0m\u001b[0;34m.\u001b[0m\u001b[0mLoadClientConfigFile\u001b[0m\u001b[0;34m(\u001b[0m\u001b[0;34m)\u001b[0m\u001b[0;34m\u001b[0m\u001b[0;34m\u001b[0m\u001b[0m\n\u001b[0m\u001b[1;32m    367\u001b[0m     \u001b[0;32melif\u001b[0m \u001b[0mbackend\u001b[0m \u001b[0;34m==\u001b[0m \u001b[0;34m'settings'\u001b[0m\u001b[0;34m:\u001b[0m\u001b[0;34m\u001b[0m\u001b[0;34m\u001b[0m\u001b[0m\n\u001b[1;32m    368\u001b[0m       \u001b[0mself\u001b[0m\u001b[0;34m.\u001b[0m\u001b[0mLoadClientConfigSettings\u001b[0m\u001b[0;34m(\u001b[0m\u001b[0;34m)\u001b[0m\u001b[0;34m\u001b[0m\u001b[0;34m\u001b[0m\u001b[0m\n",
            "\u001b[0;32m/usr/local/lib/python3.6/dist-packages/pydrive/auth.py\u001b[0m in \u001b[0;36mLoadClientConfigFile\u001b[0;34m(self, client_config_file)\u001b[0m\n\u001b[1;32m    386\u001b[0m       \u001b[0mclient_type\u001b[0m\u001b[0;34m,\u001b[0m \u001b[0mclient_info\u001b[0m \u001b[0;34m=\u001b[0m \u001b[0mclientsecrets\u001b[0m\u001b[0;34m.\u001b[0m\u001b[0mloadfile\u001b[0m\u001b[0;34m(\u001b[0m\u001b[0mclient_config_file\u001b[0m\u001b[0;34m)\u001b[0m\u001b[0;34m\u001b[0m\u001b[0;34m\u001b[0m\u001b[0m\n\u001b[1;32m    387\u001b[0m     \u001b[0;32mexcept\u001b[0m \u001b[0mclientsecrets\u001b[0m\u001b[0;34m.\u001b[0m\u001b[0mInvalidClientSecretsError\u001b[0m \u001b[0;32mas\u001b[0m \u001b[0merror\u001b[0m\u001b[0;34m:\u001b[0m\u001b[0;34m\u001b[0m\u001b[0;34m\u001b[0m\u001b[0m\n\u001b[0;32m--> 388\u001b[0;31m       \u001b[0;32mraise\u001b[0m \u001b[0mInvalidConfigError\u001b[0m\u001b[0;34m(\u001b[0m\u001b[0;34m'Invalid client secrets file %s'\u001b[0m \u001b[0;34m%\u001b[0m \u001b[0merror\u001b[0m\u001b[0;34m)\u001b[0m\u001b[0;34m\u001b[0m\u001b[0;34m\u001b[0m\u001b[0m\n\u001b[0m\u001b[1;32m    389\u001b[0m     if not client_type in (clientsecrets.TYPE_WEB,\n\u001b[1;32m    390\u001b[0m                            clientsecrets.TYPE_INSTALLED):\n",
            "\u001b[0;31mInvalidConfigError\u001b[0m: Invalid client secrets file ('Error opening file', 'client_secrets.json', 'No such file or directory', 2)"
          ]
        }
      ]
    },
    {
      "cell_type": "markdown",
      "metadata": {
        "id": "x0t2YYBuWsVk",
        "colab_type": "text"
      },
      "source": [
        "\n",
        "**What is the sea surface temperature and salinity at 50N, 140W?**\n",
        "Finding the latitude and longitude indices of 50N, 140W\n",
        "\n",
        "    \n",
        "    Use the auxilary coordinate variables named in the coordinates variable attribute, Latitude and Longitude\n",
        "\n"
      ]
    },
    {
      "cell_type": "code",
      "metadata": {
        "id": "sBRTm_Mjd2J0",
        "colab_type": "code",
        "colab": {}
      },
      "source": [
        "lat_new = np.array(lat)\n"
      ],
      "execution_count": null,
      "outputs": []
    },
    {
      "cell_type": "code",
      "metadata": {
        "id": "tiCyNw66d_wc",
        "colab_type": "code",
        "colab": {
          "base_uri": "https://localhost:8080/",
          "height": 34
        },
        "outputId": "e066001a-22ec-48e1-e3cf-d88c86b36312"
      },
      "source": [
        "lat_new[0:3]"
      ],
      "execution_count": null,
      "outputs": [
        {
          "output_type": "execute_result",
          "data": {
            "text/plain": [
              "array([30.1875  , 30.229166, 30.270834], dtype=float32)"
            ]
          },
          "metadata": {
            "tags": []
          },
          "execution_count": 15
        }
      ]
    },
    {
      "cell_type": "code",
      "metadata": {
        "id": "1G8BPjomWt4G",
        "colab_type": "code",
        "colab": {
          "base_uri": "https://localhost:8080/",
          "height": 376
        },
        "outputId": "8338c9c9-16cc-4c05-ef8b-d2f5c648dd50"
      },
      "source": [
        "# extract lat/lon values (in degrees) to numpy arrays\n",
        "import numpy as np\n",
        "\n",
        "latvals = lat[:]; lonvals = lon[:]\n",
        "#latvals = np.asarray(latvals[:])\n",
        "#lonvals = np.asarray(lonvals[:])\n",
        "#zos = np.asarray(ssh[:])\n",
        "# a function to find the index of the point closest pt\n",
        "# (in squared distance) to give lat/lon value.\n",
        "def getclosest_ij(lats,lons,latpt,lonpt):\n",
        " # find squared distance of every point on grid\n",
        " dist_sq = (lats-latpt)**2 + (lons-lonpt)**2\n",
        " # 1D index of minimum dist_sq element\n",
        " minindex_flattened = dist_sq.argmin()\n",
        " # Get 2D index for latvals and lonvals arrays from 1D index\n",
        " return np.unravel_index(minindex_flattened, lats.shape)\n",
        " \n",
        "iy_min, ix_min = getclosest_ij(latvals, lonvals, 31, 20)\n",
        "print(iy_min)\n",
        "print(ix_min)"
      ],
      "execution_count": null,
      "outputs": [
        {
          "output_type": "stream",
          "text": [
            "<class 'netCDF4._netCDF4.Variable'>\n"
          ],
          "name": "stdout"
        },
        {
          "output_type": "error",
          "ename": "TypeError",
          "evalue": "ignored",
          "traceback": [
            "\u001b[0;31m---------------------------------------------------------------------------\u001b[0m",
            "\u001b[0;31mTypeError\u001b[0m                                 Traceback (most recent call last)",
            "\u001b[0;32m<ipython-input-9-a86b8208fd87>\u001b[0m in \u001b[0;36m<module>\u001b[0;34m()\u001b[0m\n\u001b[1;32m     17\u001b[0m  \u001b[0;32mreturn\u001b[0m \u001b[0mnp\u001b[0m\u001b[0;34m.\u001b[0m\u001b[0munravel_index\u001b[0m\u001b[0;34m(\u001b[0m\u001b[0mminindex_flattened\u001b[0m\u001b[0;34m,\u001b[0m \u001b[0mlats\u001b[0m\u001b[0;34m.\u001b[0m\u001b[0mshape\u001b[0m\u001b[0;34m)\u001b[0m\u001b[0;34m\u001b[0m\u001b[0;34m\u001b[0m\u001b[0m\n\u001b[1;32m     18\u001b[0m \u001b[0;34m\u001b[0m\u001b[0m\n\u001b[0;32m---> 19\u001b[0;31m \u001b[0miy_min\u001b[0m\u001b[0;34m,\u001b[0m \u001b[0mix_min\u001b[0m \u001b[0;34m=\u001b[0m \u001b[0mgetclosest_ij\u001b[0m\u001b[0;34m(\u001b[0m\u001b[0mlatvals\u001b[0m\u001b[0;34m,\u001b[0m \u001b[0mlonvals\u001b[0m\u001b[0;34m,\u001b[0m \u001b[0;36m31\u001b[0m\u001b[0;34m,\u001b[0m \u001b[0;36m20\u001b[0m\u001b[0;34m)\u001b[0m\u001b[0;34m\u001b[0m\u001b[0;34m\u001b[0m\u001b[0m\n\u001b[0m\u001b[1;32m     20\u001b[0m \u001b[0mprint\u001b[0m\u001b[0;34m(\u001b[0m\u001b[0miy_min\u001b[0m\u001b[0;34m)\u001b[0m\u001b[0;34m\u001b[0m\u001b[0;34m\u001b[0m\u001b[0m\n\u001b[1;32m     21\u001b[0m \u001b[0mprint\u001b[0m\u001b[0;34m(\u001b[0m\u001b[0mix_min\u001b[0m\u001b[0;34m)\u001b[0m\u001b[0;34m\u001b[0m\u001b[0;34m\u001b[0m\u001b[0m\n",
            "\u001b[0;32m<ipython-input-9-a86b8208fd87>\u001b[0m in \u001b[0;36mgetclosest_ij\u001b[0;34m(lats, lons, latpt, lonpt)\u001b[0m\n\u001b[1;32m     11\u001b[0m \u001b[0;32mdef\u001b[0m \u001b[0mgetclosest_ij\u001b[0m\u001b[0;34m(\u001b[0m\u001b[0mlats\u001b[0m\u001b[0;34m,\u001b[0m\u001b[0mlons\u001b[0m\u001b[0;34m,\u001b[0m\u001b[0mlatpt\u001b[0m\u001b[0;34m,\u001b[0m\u001b[0mlonpt\u001b[0m\u001b[0;34m)\u001b[0m\u001b[0;34m:\u001b[0m\u001b[0;34m\u001b[0m\u001b[0;34m\u001b[0m\u001b[0m\n\u001b[1;32m     12\u001b[0m  \u001b[0;31m# find squared distance of every point on grid\u001b[0m\u001b[0;34m\u001b[0m\u001b[0;34m\u001b[0m\u001b[0;34m\u001b[0m\u001b[0m\n\u001b[0;32m---> 13\u001b[0;31m  \u001b[0mdist_sq\u001b[0m \u001b[0;34m=\u001b[0m \u001b[0;34m(\u001b[0m\u001b[0mlats\u001b[0m\u001b[0;34m-\u001b[0m\u001b[0mlatpt\u001b[0m\u001b[0;34m)\u001b[0m\u001b[0;34m**\u001b[0m\u001b[0;36m2\u001b[0m \u001b[0;34m+\u001b[0m \u001b[0;34m(\u001b[0m\u001b[0mlons\u001b[0m\u001b[0;34m-\u001b[0m\u001b[0mlonpt\u001b[0m\u001b[0;34m)\u001b[0m\u001b[0;34m**\u001b[0m\u001b[0;36m2\u001b[0m\u001b[0;34m\u001b[0m\u001b[0;34m\u001b[0m\u001b[0m\n\u001b[0m\u001b[1;32m     14\u001b[0m  \u001b[0;31m# 1D index of minimum dist_sq element\u001b[0m\u001b[0;34m\u001b[0m\u001b[0;34m\u001b[0m\u001b[0;34m\u001b[0m\u001b[0m\n\u001b[1;32m     15\u001b[0m  \u001b[0mminindex_flattened\u001b[0m \u001b[0;34m=\u001b[0m \u001b[0mdist_sq\u001b[0m\u001b[0;34m.\u001b[0m\u001b[0margmin\u001b[0m\u001b[0;34m(\u001b[0m\u001b[0;34m)\u001b[0m\u001b[0;34m\u001b[0m\u001b[0;34m\u001b[0m\u001b[0m\n",
            "\u001b[0;31mTypeError\u001b[0m: unsupported operand type(s) for -: 'list' and 'int'"
          ]
        }
      ]
    },
    {
      "cell_type": "code",
      "metadata": {
        "id": "eY6xdfbH63dc",
        "colab_type": "code",
        "colab": {
          "base_uri": "https://localhost:8080/",
          "height": 845
        },
        "outputId": "0f245ac2-f8ad-4e73-fb5b-bbdcf85a894a"
      },
      "source": [
        "!pip install xarray\n",
        "import xarray as xr\n",
        "f = xr.open_dataset('med00-cmcc-ssh-an-fc-d_1590166049313.nc')\n",
        "print(f)\n",
        "\n",
        "\n",
        "time = f.variables['time']\n",
        "ssh = f.variables['zos']\n",
        "lat = f.variables['lat']\n",
        "lon = f.variables['lon']\n",
        "\n",
        "\n",
        "lat = np.asarray(lat[:])\n",
        "lon = np.asarray(lon[:])\n",
        "zos = np.asarray(ssh[:])\n",
        "\n",
        "import numpy as np\n",
        "\n",
        "latvals = lat; lonvals = lon\n",
        "#print(latvals)\n",
        "\n",
        "#zos = np.asarray(ssh[:])\n",
        "# a function to find the index of the point closest pt\n",
        "# (in squared distance) to give lat/lon value.\n",
        "def getclosest_ij(lats,lons,latpt,lonpt):\n",
        " # find squared distance of every point on grid\n",
        " dist_sq = (lats-latpt)**2 + (lons-lonpt)**2\n",
        " # 1D index of minimum dist_sq element\n",
        " minindex_flattened = dist_sq.argmin()\n",
        " # Get 2D index for latvals and lonvals arrays from 1D index\n",
        " return np.unravel_index(minindex_flattened, lats.shape)\n",
        " \n",
        "iy_min, ix_min = getclosest_ij(latvals, lonvals, 31, 20)\n",
        "print(iy_min)\n",
        "print(ix_min)\n"
      ],
      "execution_count": null,
      "outputs": [
        {
          "output_type": "stream",
          "text": [
            "Requirement already satisfied: xarray in /usr/local/lib/python3.6/dist-packages (0.15.1)\n",
            "Requirement already satisfied: numpy>=1.15 in /usr/local/lib/python3.6/dist-packages (from xarray) (1.18.4)\n",
            "Requirement already satisfied: pandas>=0.25 in /usr/local/lib/python3.6/dist-packages (from xarray) (1.0.3)\n",
            "Requirement already satisfied: setuptools>=41.2 in /usr/local/lib/python3.6/dist-packages (from xarray) (46.3.0)\n",
            "Requirement already satisfied: pytz>=2017.2 in /usr/local/lib/python3.6/dist-packages (from pandas>=0.25->xarray) (2018.9)\n",
            "Requirement already satisfied: python-dateutil>=2.6.1 in /usr/local/lib/python3.6/dist-packages (from pandas>=0.25->xarray) (2.8.1)\n",
            "Requirement already satisfied: six>=1.5 in /usr/local/lib/python3.6/dist-packages (from python-dateutil>=2.6.1->pandas>=0.25->xarray) (1.12.0)\n",
            "<xarray.Dataset>\n",
            "Dimensions:  (lat: 380, lon: 1287, time: 1)\n",
            "Coordinates:\n",
            "  * lon      (lon) float32 -17.291666 -17.25 -17.208334 ... 36.25 36.291668\n",
            "  * time     (time) datetime64[ns] 2020-05-31T12:00:00\n",
            "  * lat      (lat) float32 30.1875 30.229166 30.270834 ... 45.9375 45.979168\n",
            "Data variables:\n",
            "    zos      (time, lat, lon) float32 ...\n",
            "Attributes:\n",
            "    comment:                         Please check in CMEMS catalogue the INFO...\n",
            "    FROM_ORIGINAL_FILE__field_type:  daily_mean_centered_at_time_field\n",
            "    title:                           Sea Surface Height (2D) - Daily Mean\n",
            "    Conventions:                     CF-1.0\n",
            "    source:                          MFS EAS5\n",
            "    contact:                         servicedesk.cmems@mercator-ocean.eu\n",
            "    references:                      Please check in CMEMS catalogue the INFO...\n",
            "    bulletin_type:                   forecast\n",
            "    bulletin_date:                   20200522\n",
            "    institution:                     Centro Euro-Mediterraneo sui Cambiamenti...\n",
            "    _CoordSysBuilder:                ucar.nc2.dataset.conv.CF1Convention\n",
            "    history:                         Data extracted from dataset http://local...\n"
          ],
          "name": "stdout"
        },
        {
          "output_type": "error",
          "ename": "ValueError",
          "evalue": "ignored",
          "traceback": [
            "\u001b[0;31m---------------------------------------------------------------------------\u001b[0m",
            "\u001b[0;31mValueError\u001b[0m                                Traceback (most recent call last)",
            "\u001b[0;32m<ipython-input-18-3e6f6f3f4f23>\u001b[0m in \u001b[0;36m<module>\u001b[0;34m()\u001b[0m\n\u001b[1;32m     31\u001b[0m  \u001b[0;32mreturn\u001b[0m \u001b[0mnp\u001b[0m\u001b[0;34m.\u001b[0m\u001b[0munravel_index\u001b[0m\u001b[0;34m(\u001b[0m\u001b[0mminindex_flattened\u001b[0m\u001b[0;34m,\u001b[0m \u001b[0mlats\u001b[0m\u001b[0;34m.\u001b[0m\u001b[0mshape\u001b[0m\u001b[0;34m)\u001b[0m\u001b[0;34m\u001b[0m\u001b[0;34m\u001b[0m\u001b[0m\n\u001b[1;32m     32\u001b[0m \u001b[0;34m\u001b[0m\u001b[0m\n\u001b[0;32m---> 33\u001b[0;31m \u001b[0miy_min\u001b[0m\u001b[0;34m,\u001b[0m \u001b[0mix_min\u001b[0m \u001b[0;34m=\u001b[0m \u001b[0mgetclosest_ij\u001b[0m\u001b[0;34m(\u001b[0m\u001b[0mlatvals\u001b[0m\u001b[0;34m,\u001b[0m \u001b[0mlonvals\u001b[0m\u001b[0;34m,\u001b[0m \u001b[0;36m31\u001b[0m\u001b[0;34m,\u001b[0m \u001b[0;36m20\u001b[0m\u001b[0;34m)\u001b[0m\u001b[0;34m\u001b[0m\u001b[0;34m\u001b[0m\u001b[0m\n\u001b[0m\u001b[1;32m     34\u001b[0m \u001b[0mprint\u001b[0m\u001b[0;34m(\u001b[0m\u001b[0miy_min\u001b[0m\u001b[0;34m)\u001b[0m\u001b[0;34m\u001b[0m\u001b[0;34m\u001b[0m\u001b[0m\n\u001b[1;32m     35\u001b[0m \u001b[0mprint\u001b[0m\u001b[0;34m(\u001b[0m\u001b[0mix_min\u001b[0m\u001b[0;34m)\u001b[0m\u001b[0;34m\u001b[0m\u001b[0;34m\u001b[0m\u001b[0m\n",
            "\u001b[0;32m<ipython-input-18-3e6f6f3f4f23>\u001b[0m in \u001b[0;36mgetclosest_ij\u001b[0;34m(lats, lons, latpt, lonpt)\u001b[0m\n\u001b[1;32m     25\u001b[0m \u001b[0;32mdef\u001b[0m \u001b[0mgetclosest_ij\u001b[0m\u001b[0;34m(\u001b[0m\u001b[0mlats\u001b[0m\u001b[0;34m,\u001b[0m\u001b[0mlons\u001b[0m\u001b[0;34m,\u001b[0m\u001b[0mlatpt\u001b[0m\u001b[0;34m,\u001b[0m\u001b[0mlonpt\u001b[0m\u001b[0;34m)\u001b[0m\u001b[0;34m:\u001b[0m\u001b[0;34m\u001b[0m\u001b[0;34m\u001b[0m\u001b[0m\n\u001b[1;32m     26\u001b[0m  \u001b[0;31m# find squared distance of every point on grid\u001b[0m\u001b[0;34m\u001b[0m\u001b[0;34m\u001b[0m\u001b[0;34m\u001b[0m\u001b[0m\n\u001b[0;32m---> 27\u001b[0;31m  \u001b[0mdist_sq\u001b[0m \u001b[0;34m=\u001b[0m \u001b[0;34m(\u001b[0m\u001b[0mlats\u001b[0m\u001b[0;34m-\u001b[0m\u001b[0mlatpt\u001b[0m\u001b[0;34m)\u001b[0m\u001b[0;34m**\u001b[0m\u001b[0;36m2\u001b[0m \u001b[0;34m+\u001b[0m \u001b[0;34m(\u001b[0m\u001b[0mlons\u001b[0m\u001b[0;34m-\u001b[0m\u001b[0mlonpt\u001b[0m\u001b[0;34m)\u001b[0m\u001b[0;34m**\u001b[0m\u001b[0;36m2\u001b[0m\u001b[0;34m\u001b[0m\u001b[0;34m\u001b[0m\u001b[0m\n\u001b[0m\u001b[1;32m     28\u001b[0m  \u001b[0;31m# 1D index of minimum dist_sq element\u001b[0m\u001b[0;34m\u001b[0m\u001b[0;34m\u001b[0m\u001b[0;34m\u001b[0m\u001b[0m\n\u001b[1;32m     29\u001b[0m  \u001b[0mminindex_flattened\u001b[0m \u001b[0;34m=\u001b[0m \u001b[0mdist_sq\u001b[0m\u001b[0;34m.\u001b[0m\u001b[0margmin\u001b[0m\u001b[0;34m(\u001b[0m\u001b[0;34m)\u001b[0m\u001b[0;34m\u001b[0m\u001b[0;34m\u001b[0m\u001b[0m\n",
            "\u001b[0;31mValueError\u001b[0m: operands could not be broadcast together with shapes (380,) (1287,) "
          ]
        }
      ]
    },
    {
      "cell_type": "code",
      "metadata": {
        "id": "ZVCKoci4tfR5",
        "colab_type": "code",
        "colab": {
          "base_uri": "https://localhost:8080/",
          "height": 602
        },
        "outputId": "adb45274-ccd2-4d32-9b63-e9172f9f4342"
      },
      "source": [
        "\n",
        "!pip install Py6S\n",
        "!pip install atmos\n",
        "import ee\n",
        "from Py6S import *\n",
        "import datetime\n",
        "import math\n",
        "import os\n",
        "import sys\n",
        "sys.path.append(os.path.join(os.path.dirname(os.getcwd()),'bin'))\n",
        "from atmospheric import Atmospheric\n",
        "\n",
        "ee.Initialize()\n",
        "\n"
      ],
      "execution_count": null,
      "outputs": [
        {
          "output_type": "stream",
          "text": [
            "Requirement already satisfied: Py6S in /usr/local/lib/python3.6/dist-packages (1.8.0)\n",
            "Requirement already satisfied: matplotlib in /usr/local/lib/python3.6/dist-packages (from Py6S) (3.2.1)\n",
            "Requirement already satisfied: scipy in /usr/local/lib/python3.6/dist-packages (from Py6S) (1.4.1)\n",
            "Requirement already satisfied: pysolar==0.6 in /usr/local/lib/python3.6/dist-packages (from Py6S) (0.6)\n",
            "Requirement already satisfied: pyparsing!=2.0.4,!=2.1.2,!=2.1.6,>=2.0.1 in /usr/local/lib/python3.6/dist-packages (from matplotlib->Py6S) (2.4.7)\n",
            "Requirement already satisfied: python-dateutil>=2.1 in /usr/local/lib/python3.6/dist-packages (from matplotlib->Py6S) (2.8.1)\n",
            "Requirement already satisfied: numpy>=1.11 in /usr/local/lib/python3.6/dist-packages (from matplotlib->Py6S) (1.18.5)\n",
            "Requirement already satisfied: kiwisolver>=1.0.1 in /usr/local/lib/python3.6/dist-packages (from matplotlib->Py6S) (1.2.0)\n",
            "Requirement already satisfied: cycler>=0.10 in /usr/local/lib/python3.6/dist-packages (from matplotlib->Py6S) (0.10.0)\n",
            "Requirement already satisfied: six>=1.5 in /usr/local/lib/python3.6/dist-packages (from python-dateutil>=2.1->matplotlib->Py6S) (1.12.0)\n",
            "Collecting atmos\n",
            "  Downloading https://files.pythonhosted.org/packages/65/1b/9e08dbd6979877cb1d24b5b3ee607c91ece212b010b49715ca7443999e24/atmos-0.2.5.tar.gz\n",
            "\u001b[31mERROR: Command errored out with exit status 1: python setup.py egg_info Check the logs for full command output.\u001b[0m\n"
          ],
          "name": "stdout"
        },
        {
          "output_type": "error",
          "ename": "ModuleNotFoundError",
          "evalue": "ignored",
          "traceback": [
            "\u001b[0;31m---------------------------------------------------------------------------\u001b[0m",
            "\u001b[0;31mModuleNotFoundError\u001b[0m                       Traceback (most recent call last)",
            "\u001b[0;32m<ipython-input-5-476292638221>\u001b[0m in \u001b[0;36m<module>\u001b[0;34m()\u001b[0m\n\u001b[1;32m      9\u001b[0m \u001b[0;32mimport\u001b[0m \u001b[0msys\u001b[0m\u001b[0;34m\u001b[0m\u001b[0;34m\u001b[0m\u001b[0m\n\u001b[1;32m     10\u001b[0m \u001b[0msys\u001b[0m\u001b[0;34m.\u001b[0m\u001b[0mpath\u001b[0m\u001b[0;34m.\u001b[0m\u001b[0mappend\u001b[0m\u001b[0;34m(\u001b[0m\u001b[0mos\u001b[0m\u001b[0;34m.\u001b[0m\u001b[0mpath\u001b[0m\u001b[0;34m.\u001b[0m\u001b[0mjoin\u001b[0m\u001b[0;34m(\u001b[0m\u001b[0mos\u001b[0m\u001b[0;34m.\u001b[0m\u001b[0mpath\u001b[0m\u001b[0;34m.\u001b[0m\u001b[0mdirname\u001b[0m\u001b[0;34m(\u001b[0m\u001b[0mos\u001b[0m\u001b[0;34m.\u001b[0m\u001b[0mgetcwd\u001b[0m\u001b[0;34m(\u001b[0m\u001b[0;34m)\u001b[0m\u001b[0;34m)\u001b[0m\u001b[0;34m,\u001b[0m\u001b[0;34m'bin'\u001b[0m\u001b[0;34m)\u001b[0m\u001b[0;34m)\u001b[0m\u001b[0;34m\u001b[0m\u001b[0;34m\u001b[0m\u001b[0m\n\u001b[0;32m---> 11\u001b[0;31m \u001b[0;32mfrom\u001b[0m \u001b[0matmospheric\u001b[0m \u001b[0;32mimport\u001b[0m \u001b[0mAtmospheric\u001b[0m\u001b[0;34m\u001b[0m\u001b[0;34m\u001b[0m\u001b[0m\n\u001b[0m\u001b[1;32m     12\u001b[0m \u001b[0;34m\u001b[0m\u001b[0m\n\u001b[1;32m     13\u001b[0m \u001b[0mee\u001b[0m\u001b[0;34m.\u001b[0m\u001b[0mInitialize\u001b[0m\u001b[0;34m(\u001b[0m\u001b[0;34m)\u001b[0m\u001b[0;34m\u001b[0m\u001b[0;34m\u001b[0m\u001b[0m\n",
            "\u001b[0;31mModuleNotFoundError\u001b[0m: No module named 'atmospheric'",
            "",
            "\u001b[0;31m---------------------------------------------------------------------------\u001b[0;32m\nNOTE: If your import is failing due to a missing package, you can\nmanually install dependencies using either !pip or !apt.\n\nTo view examples of installing some common dependencies, click the\n\"Open Examples\" button below.\n\u001b[0;31m---------------------------------------------------------------------------\u001b[0m\n"
          ]
        }
      ]
    }
  ]
}